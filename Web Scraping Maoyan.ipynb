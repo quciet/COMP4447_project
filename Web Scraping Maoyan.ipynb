{
 "cells": [
  {
   "cell_type": "code",
   "execution_count": 1,
   "metadata": {},
   "outputs": [],
   "source": [
    "%load_ext rpy2.ipython"
   ]
  },
  {
   "cell_type": "code",
   "execution_count": 2,
   "metadata": {},
   "outputs": [
    {
     "name": "stderr",
     "output_type": "stream",
     "text": [
      "/Library/Frameworks/Python.framework/Versions/3.7/lib/python3.7/site-packages/rpy2/rinterface/__init__.py:146: RRuntimeWarning: data.table 1.12.0  Latest news: r-datatable.com\n",
      "\n",
      "  warnings.warn(x, RRuntimeWarning)\n"
     ]
    }
   ],
   "source": [
    "%%R\n",
    "library(data.table)\n",
    "library(readxl)"
   ]
  },
  {
   "cell_type": "code",
   "execution_count": 272,
   "metadata": {},
   "outputs": [],
   "source": [
    "import pandas as pd\n",
    "import requests as rq\n",
    "from bs4 import BeautifulSoup as bsp\n",
    "import time\n",
    "import re"
   ]
  },
  {
   "cell_type": "code",
   "execution_count": 14,
   "metadata": {},
   "outputs": [
    {
     "name": "stdout",
     "output_type": "stream",
     "text": [
      "200\n"
     ]
    },
    {
     "data": {
      "text/plain": [
       "'{\"expire\":\"2019-02-11T03:48:59.935Z\",\"html\":\"<div class=\\\\\"bocontent\\\\\"><div><div class=\\\\\"typetitle\\\\\"><h4>内地影史票房</h4><p class=\\\\\"updateday\\\\\">更新时间：2019年2月11日</p><div class=\\\\\"showtype\\\\\"><span class=\\\\\"tabtype\\\\\"><a data-category=\\\\\"all\\\\\" class=\\\\\"cur\\\\\">全部</a> |<a data-category=\\\\\"china\\\\\">国产片</a> |<a data-category=\\\\\"other\\\\\">引进片</a></span><a data-display=\\\\\"list\\\\\" class=\\\\\"ico-display ico-list cur\\\\\"><i></i></a><a data-display=\\\\\"table\\\\\" class=\\\\\"ico-display ico-table\\\\\"><i></i></a></div></div><div class=\\\\\"boxofficelist\\\\\"><div><dl><dt><em class=\\\\\"paiming\\\\\">排行</em><em class=\\\\\"moviename\\\\\">影片</em><em class=\\\\\"pingfen\\\\\">时光评分</em><em class=\\\\\"piaofang\\\\\">累计票房（元）</em></dt></dl><dd id=\\\\\"MovieRankingHistory-rank-1\\\\\"><div class=\\\\\"movietopmod\\\\\"><div class=\\\\\"picbox\\\\\" style=\\\\\"background-color:#fbad68;\\\\\"><i>01</i><a href=\\\\\"http://movie.mtime.com/229733\\\\\" target=\\\\\"_blank\\\\\" title=\\\\\"战狼2/Wolf Warriors Ⅱ\\\\\"><img src=\\\\\"http://img5.mtime.cn/mt/2017/07/21/162643.51070350_185X277X4.jpg\\\\\" width=\\\\\"135\\\\\" height=\\\\\"190\\\\\" alt=\\\\\"战狼2/Wolf Warriors Ⅱ\\\\\"/></a></div><div class=\\\\\"txtbox\\\\\"><h3><a href=\\\\\"http://movie.mtime.com/229733\\\\\" target=\\\\\"_blank\\\\\">战狼2</a></h3><h4><a href=\\\\\"http://movie.mtime.com/229733\\\\\" target=\\\\\"_blank\\\\\">Wolf Warriors Ⅱ</a></h4><p class=\\\\\"dataday\\\\\">首日<strong>1.02</strong>亿<i>|</i>首周<strong>9.97</strong>亿<i>|</i>连冠4周</p><p>2017年07月27日上映&nbsp;2D/3D/IMAX</p><b><p>导演：<a href=http://people.mtime.com/956786/ target=\\\\\"_blank\\\\\">吴京</a></p><p>主演：<a href=\\\\\"http://people.mtime.com/956786/\\\\\" target=\\\\\"_blank\\\\\">吴京</a>/<a href=\\\\\"http://people.mtime.com/934883/\\\\\" target=\\\\\"_blank\\\\\">弗兰克·格里罗</a></p><p>发行公司：<a class=\\\\\"elli\\\\\" href=http://movie.mtime.com/company/134775/ target=\\\\\"_blank\\\\\">北京京西文化旅游股份有限公司</a><a href=\\\\\"http://movie.mtime.com/229733/details.html#company\\\\\" target=\\\\\"_blank\\\\\" className=\\\\\"morelink\\\\\">...</a></p></b></div><div class=\\\\\"gradebox\\\\\"><p class=\\\\\"point\\\\\">7<em>.4</em></p><p>16967人评分</p></div><div class=\\\\\"totalbox\\\\\"><p class=\\\\\"totalnum\\\\\"><strong>56.82</strong>亿</p><p class=\\\\\"none\\\\\">累计人次：1.60亿</p></div></div></dd><dd id=\\\\\"MovieRankingHistory-rank-2\\\\\"><div class=\\\\\"movietopmod\\\\\"><div class=\\\\\"picbox\\\\\" style=\\\\\"background-color:#a7c87f;\\\\\"><i>02</i><a href=\\\\\"http://movie.mtime.com/240425\\\\\" target=\\\\\"_blank\\\\\" title=\\\\\"红海行动/Operation Red Sea\\\\\"><img src=\\\\\"http://img5.mtime.cn/mt/2018/02/17/150049.57218452_185X277X4.jpg\\\\\" width=\\\\\"135\\\\\" height=\\\\\"190\\\\\" alt=\\\\\"红海行动/Operation Red Sea\\\\\"/></a></div><div class=\\\\\"txtbox\\\\\"><h3><a href=\\\\\"http://movie.mtime.com/240425\\\\\" target=\\\\\"_blank\\\\\">红海行动</a></h3><h4><a href=\\\\\"http://movie.mtime.com/240425\\\\\" target=\\\\\"_blank\\\\\">Operation Red Sea</a></h4><p class=\\\\\"dataday\\\\\">首日<strong>1.29</strong>亿<i>|</i>首周<strong>4.65</strong>亿</p><p>2018年02月16日上映&nbsp;2D/3D/IMAX3D</p><b><p>导演：<a href=http://people.mtime.com/892901/ target=\\\\\"_blank\\\\\">林超贤</a></p><p>主演：<a href=\\\\\"http://people.mtime.com/1311848/\\\\\" target=\\\\\"_blank\\\\\">张译</a>/<a href=\\\\\"http://people.mtime.com/2189621/\\\\\" target=\\\\\"_blank\\\\\">黄景瑜</a></p><p>发行公司：<a class=\\\\\"elli\\\\\" href=http://movie.mtime.com/company/22564/ target=\\\\\"_blank\\\\\">博纳影业</a><a href=\\\\\"http://movie.mtime.com/240425/details.html#company\\\\\" target=\\\\\"_blank\\\\\" className=\\\\\"morelink\\\\\">...</a></p></b></div><div class=\\\\\"gradebox\\\\\"><p class=\\\\\"point\\\\\">8<em>.1</em></p><p>10110人评分</p></div><div class=\\\\\"totalbox\\\\\"><p class=\\\\\"totalnum\\\\\"><strong>36.51</strong>亿</p><p class=\\\\\"none\\\\\">累计人次：9291.6万</p></div></div></dd><dd id=\\\\\"MovieRankingHistory-rank-3\\\\\"><div class=\\\\\"movietopmod\\\\\"><div class=\\\\\"picbox\\\\\" style=\\\\\"background-color:#66b3d6;\\\\\"><i>03</i><a href=\\\\\"http://movie.mtime.com/234873\\\\\" target=\\\\\"_blank\\\\\" title=\\\\\"唐人街探案2/Detective Chinatown 2\\\\\"><img src=\\\\\"http://img5.mtime.cn/mt/2018/02/05/093619.43082530_185X277X4.jpg\\\\\" width=\\\\\"135\\\\\" height=\\\\\"190\\\\\" alt=\\\\\"唐人街探案2/Detective Chinatown 2\\\\\"/></a></div><div class=\\\\\"txtbox\\\\\"><h3><a href=\\\\\"http://movie.mtime.com/234873\\\\\" target=\\\\\"_blank\\\\\">唐人街探案2</a></h3><h4><a href=\\\\\"http://movie.mtime.com/234873\\\\\" target=\\\\\"_blank\\\\\">Detective Chinatown 2</a></h4><p class=\\\\\"dataday\\\\\">首日<strong>3.41</strong>亿<i>|</i>首周<strong>9.90</strong>亿</p><p>2018年02月16日上映&nbsp;2D/IMAX/中国巨幕</p><b><p>导演：<a href=http://people.mtime.com/1249267/ target=\\\\\"_blank\\\\\">陈思诚</a></p><p>主演：<a href=\\\\\"http://people.mtime.com/939536/\\\\\" target=\\\\\"_blank\\\\\">王宝强</a>/<a href=\\\\\"http://people.mtime.com/2082007/\\\\\" target=\\\\\"_blank\\\\\">刘昊然</a></p><p>发行公司：<a class=\\\\\"elli\\\\\" href=http://movie.mtime.com/company/121271/ target=\\\\\"_blank\\\\\">五洲电影发行有限公司</a><a href=\\\\\"http://movie.mtime.com/234873/details.html#company\\\\\" target=\\\\\"_blank\\\\\" className=\\\\\"morelink\\\\\">...</a></p></b></div><div class=\\\\\"gradebox\\\\\"><p class=\\\\\"point\\\\\">6<em>.9</em></p><p>5789人评分</p></div><div class=\\\\\"totalbox\\\\\"><p class=\\\\\"totalnum\\\\\"><strong>33.98</strong>亿</p><p class=\\\\\"none\\\\\">累计人次：8766.6万</p></div></div></dd><dd id=\\\\\"MovieRankingHistory-rank-4\\\\\"><div class=\\\\\"movietopmod\\\\\"><div class=\\\\\"picbox\\\\\"><i>04</i><a href=\\\\\"http://movie.mtime.com/209007\\\\\" target=\\\\\"_blank\\\\\" title=\\\\\"美人鱼/The Mermaid\\\\\"><img src=\\\\\"http://img31.mtime.cn/mt/2016/02/04/165933.21865133_185X277X4.jpg\\\\\" width=\\\\\"135\\\\\" height=\\\\\"190\\\\\" alt=\\\\\"美人鱼/The Mermaid\\\\\"/></a></div><div class=\\\\\"txtbox\\\\\"><h3><a href=\\\\\"http://movie.mtime.com/209007\\\\\" target=\\\\\"_blank\\\\\">美人鱼</a></h3><h4><a href=\\\\\"http://movie.mtime.com/209007\\\\\" target=\\\\\"_blank\\\\\">The Mermaid</a></h4><p class=\\\\\"dataday\\\\\">首日<strong>2.72</strong>亿<i>|</i>首周<strong>18.18</strong>亿<i>|</i>连冠2周</p><p>2016年02月08日上映&nbsp;3D/中国巨幕</p><b><p>导演：<a href=http://people.mtime.com/893017/ target=\\\\\"_blank\\\\\">周星驰</a></p><p>主演：<a href=\\\\\"http://people.mtime.com/1256584/\\\\\" target=\\\\\"_blank\\\\\">邓超</a>/<a href=\\\\\"http://people.mtime.com/1257132/\\\\\" target=\\\\\"_blank\\\\\">罗志祥</a></p><p>发行公司：<a class=\\\\\"elli\\\\\" href=http://movie.mtime.com/company/97460/ target=\\\\\"_blank\\\\\">中影北京发行分公司</a><a href=\\\\\"http://movie.mtime.com/209007/details.html#company\\\\\" target=\\\\\"_blank\\\\\" className=\\\\\"morelink\\\\\">...</a></p></b></div><div class=\\\\\"gradebox\\\\\"><p class=\\\\\"point\\\\\">7<em>.4</em></p><p>18194人评分</p></div><div class=\\\\\"totalbox\\\\\"><p class=\\\\\"totalnum\\\\\"><strong>33.92</strong>亿</p><p class=\\\\\"none\\\\\">累计人次：9243.4万</p></div></div></dd><dd id=\\\\\"MovieRankingHistory-rank-5\\\\\"><div class=\\\\\"movietopmod\\\\\"><div class=\\\\\"picbox\\\\\"><i>05</i><a href=\\\\\"http://movie.mtime.com/242167\\\\\" target=\\\\\"_blank\\\\\" title=\\\\\"我不是药神/Dying To Survive\\\\\"><img src=\\\\\"http://img5.mtime.cn/mt/2018/06/21/102400.44145684_185X277X4.jpg\\\\\" width=\\\\\"135\\\\\" height=\\\\\"190\\\\\" alt=\\\\\"我不是药神/Dying To Survive\\\\\"/></a></div><div class=\\\\\"txtbox\\\\\"><h3><a href=\\\\\"http://movie.mtime.com/242167\\\\\" target=\\\\\"_blank\\\\\">我不是药神</a></h3><h4><a href=\\\\\"http://movie.mtime.com/242167\\\\\" target=\\\\\"_blank\\\\\">Dying To Survive</a></h4><p class=\\\\\"dataday\\\\\">首日<strong>1.60</strong>亿<i>|</i>首周<strong>11.72</strong>亿<i>|</i>连冠2周</p><p>2018年07月05日上映&nbsp;2D/IMAX/中国巨幕</p><b><p>导演：<a href=http://people.mtime.com/2145801/ target=\\\\\"_blank\\\\\">文牧野</a></p><p>主演：<a href=\\\\\"http://people.mtime.com/1248675/\\\\\" target=\\\\\"_blank\\\\\">徐峥</a>/<a href=\\\\\"http://people.mtime.com/1249511/\\\\\" target=\\\\\"_blank\\\\\">周一围</a></p><p>发行公司：<a class=\\\\\"elli\\\\\" href=http://movie.mtime.com/company/134775/ target=\\\\\"_blank\\\\\">北京京西文化旅游股份有限公司</a><a href=\\\\\"http://movie.mtime.com/242167/details.html#company\\\\\" target=\\\\\"_blank\\\\\" className=\\\\\"morelink\\\\\">...</a></p></b></div><div class=\\\\\"gradebox\\\\\"><p class=\\\\\"point\\\\\">8<em>.8</em></p><p>8958人评分</p></div><div class=\\\\\"totalbox\\\\\"><p class=\\\\\"totalnum\\\\\"><strong>30.98</strong>亿</p><p class=\\\\\"none\\\\\">累计人次：8899.4万</p></div></div></dd><dd id=\\\\\"MovieRankingHistory-rank-6\\\\\"><div class=\\\\\"movietopmod\\\\\"><div class=\\\\\"picbox\\\\\"><i>06</i><a href=\\\\\"http://movie.mtime.com/224149\\\\\" target=\\\\\"_blank\\\\\" title=\\\\\"速度与激情8/The Fate of the Furious\\\\\"><img src=\\\\\"http://img5.mtime.cn/mt/2017/03/10/100416.61663220_185X277X4.jpg\\\\\" width=\\\\\"135\\\\\" height=\\\\\"190\\\\\" alt=\\\\\"速度与激情8/The Fate of the Furious\\\\\"/></a></div><div class=\\\\\"txtbox\\\\\"><h3><a href=\\\\\"http://movie.mtime.com/224149\\\\\" target=\\\\\"_blank\\\\\">速度与激情8</a></h3><h4><a href=\\\\\"http://movie.mtime.com/224149\\\\\" target=\\\\\"_blank\\\\\">The Fate of the Furious</a></h4><p class=\\\\\"dataday\\\\\">首日<strong>4.21</strong>亿<i>|</i>首周<strong>13.15</strong>亿<i>|</i>连冠2周</p><p>2017年04月14日上映&nbsp;2D/3D/IMAX3D</p><b><p>导演：<a href=http://people.mtime.com/898130/ target=\\\\\"_blank\\\\\">F·加里·格雷</a></p><p>主演：<a href=\\\\\"http://people.mtime.com/913378/\\\\\" target=\\\\\"_blank\\\\\">范·迪塞尔</a>/<a href=\\\\\"http://people.mtime.com/912746/\\\\\" target=\\\\\"_blank\\\\\">道恩·强森</a></p><p>发行公司：<a class=\\\\\"elli\\\\\" href=http://movie.mtime.com/company/296/ target=\\\\\"_blank\\\\\">环球</a><a href=\\\\\"http://movie.mtime.com/224149/details.html#company\\\\\" target=\\\\\"_blank\\\\\" className=\\\\\"morelink\\\\\">...</a></p></b></div><div class=\\\\\"gradebox\\\\\"><p class=\\\\\"point\\\\\">7<em>.3</em></p><p>5626人评分</p></div><div class=\\\\\"totalbox\\\\\"><p class=\\\\\"totalnum\\\\\"><strong>26.96</strong>亿</p><p class=\\\\\"none\\\\\">累计人次：7361.6万</p></div></div></dd><dd id=\\\\\"MovieRankingHistory-rank-7\\\\\"><div class=\\\\\"movietopmod\\\\\"><div class=\\\\\"picbox\\\\\"><i>07</i><a href=\\\\\"http://movie.mtime.com/253688\\\\\" target=\\\\\"_blank\\\\\" title=\\\\\"西虹市首富/Hello Mr. Billionaire\\\\\"><img src=\\\\\"http://img5.mtime.cn/mt/2018/07/23/113049.24374498_185X277X4.jpg\\\\\" width=\\\\\"135\\\\\" height=\\\\\"190\\\\\" alt=\\\\\"西虹市首富/Hello Mr. Billionaire\\\\\"/></a></div><div class=\\\\\"txtbox\\\\\"><h3><a href=\\\\\"http://movie.mtime.com/253688\\\\\" target=\\\\\"_blank\\\\\">西虹市首富</a></h3><h4><a href=\\\\\"http://movie.mtime.com/253688\\\\\" target=\\\\\"_blank\\\\\">Hello Mr. Billionaire</a></h4><p class=\\\\\"dataday\\\\\">首日<strong>2.27</strong>亿<i>|</i>首周<strong>9.02</strong>亿</p><p>2018年07月27日上映&nbsp;2D/IMAX</p><b><p>导演：<a href=http://people.mtime.com/2114123/ target=\\\\\"_blank\\\\\">闫非</a></p><p>主演：<a href=\\\\\"http://people.mtime.com/1993475/\\\\\" target=\\\\\"_blank\\\\\">沈腾</a>/<a href=\\\\\"http://people.mtime.com/2090555/\\\\\" target=\\\\\"_blank\\\\\">宋芸桦</a></p></b></div><div class=\\\\\"gradebox\\\\\"><p class=\\\\\"point\\\\\">6<em>.7</em></p><p>5885人评分</p></div><div class=\\\\\"totalbox\\\\\"><p class=\\\\\"totalnum\\\\\"><strong>25.45</strong>亿</p><p class=\\\\\"none\\\\\">累计人次：7257.6万</p></div></div></dd><dd id=\\\\\"MovieRankingHistory-rank-8\\\\\"><div class=\\\\\"movietopmod\\\\\"><div class=\\\\\"picbox\\\\\"><i>08</i><a href=\\\\\"http://movie.mtime.com/211794\\\\\" target=\\\\\"_blank\\\\\" title=\\\\\"捉妖记/Monster Hunt\\\\\"><img src=\\\\\"http://img31.mtime.cn/mt/2015/06/24/095659.10934613_185X277X4.jpg\\\\\" width=\\\\\"135\\\\\" height=\\\\\"190\\\\\" alt=\\\\\"捉妖记/Monster Hunt\\\\\"/></a></div><div class=\\\\\"txtbox\\\\\"><h3><a href=\\\\\"http://movie.mtime.com/211794\\\\\" target=\\\\\"_blank\\\\\">捉妖记</a></h3><h4><a href=\\\\\"http://movie.mtime.com/211794\\\\\" target=\\\\\"_blank\\\\\">Monster Hunt</a></h4><p class=\\\\\"dataday\\\\\">首日<strong>1.63</strong>亿<i>|</i>首周<strong>6.65</strong>亿<i>|</i>连冠3周</p><p>2015年07月16日上映&nbsp;2D/3D/IMAX3D</p><b><p>导演：<a href=http://people.mtime.com/942174/ target=\\\\\"_blank\\\\\">许诚毅</a></p><p>主演：<a href=\\\\\"http://people.mtime.com/1575942/\\\\\" target=\\\\\"_blank\\\\\">井柏然</a>/<a href=\\\\\"http://people.mtime.com/1413704/\\\\\" target=\\\\\"_blank\\\\\">白百何</a></p><p>发行公司：<a class=\\\\\"elli\\\\\" href=http://movie.mtime.com/company/95963/ target=\\\\\"_blank\\\\\">安乐(北京)电影发行有限公司</a><a href=\\\\\"http://movie.mtime.com/211794/details.html#company\\\\\" target=\\\\\"_blank\\\\\" className=\\\\\"morelink\\\\\">...</a></p></b></div><div class=\\\\\"gradebox\\\\\"><p class=\\\\\"point\\\\\">7<em>.2</em></p><p>14649人评分</p></div><div class=\\\\\"totalbox\\\\\"><p class=\\\\\"totalnum\\\\\"><strong>24.39</strong>亿</p><p class=\\\\\"none\\\\\">累计人次：6561.2万</p></div></div></dd><dd id=\\\\\"MovieRankingHistory-rank-9\\\\\"><div class=\\\\\"movietopmod\\\\\"><div class=\\\\\"picbox\\\\\"><i>09</i><a href=\\\\\"http://movie.mtime.com/196613\\\\\" target=\\\\\"_blank\\\\\" title=\\\\\"速度与激情7/Fast &amp; Furious 7\\\\\"><img src=\\\\\"http://img31.mtime.cn/mt/2015/03/17/095942.88667571_185X277X4.jpg\\\\\" width=\\\\\"135\\\\\" height=\\\\\"190\\\\\" alt=\\\\\"速度与激情7/Fast &amp; Furious 7\\\\\"/></a></div><div class=\\\\\"txtbox\\\\\"><h3><a href=\\\\\"http://movie.mtime.com/196613\\\\\" target=\\\\\"_blank\\\\\">速度与激情7</a></h3><h4><a href=\\\\\"http://movie.mtime.com/196613\\\\\" target=\\\\\"_blank\\\\\">Fast & Furious 7</a></h4><p class=\\\\\"dataday\\\\\">首日<strong>3.46</strong>亿<i>|</i>首周<strong>3.46</strong>亿<i>|</i>连冠4周</p><p>2015年04月12日上映&nbsp;2D/3D/IMAX3D</p><b><p>导演：<a href=http://people.mtime.com/907108/ target=\\\\\"_blank\\\\\">温子仁</a></p><p>主演：<a href=\\\\\"http://people.mtime.com/913378/\\\\\" target=\\\\\"_blank\\\\\">范·迪塞尔</a>/<a href=\\\\\"http://people.mtime.com/914051/\\\\\" target=\\\\\"_blank\\\\\">保罗·沃克</a></p><p>发行公司：<a class=\\\\\"elli\\\\\" href=http://movie.mtime.com/company/296/ target=\\\\\"_blank\\\\\">环球</a><a href=\\\\\"http://movie.mtime.com/196613/details.html#company\\\\\" target=\\\\\"_blank\\\\\" className=\\\\\"morelink\\\\\">...</a></p></b></div><div class=\\\\\"gradebox\\\\\"><p class=\\\\\"point\\\\\">8<em>.3</em></p><p>21658人评分</p></div><div class=\\\\\"totalbox\\\\\"><p class=\\\\\"totalnum\\\\\"><strong>24.27</strong>亿</p><p class=\\\\\"none\\\\\">累计人次：6244.5万</p></div></div></dd><dd id=\\\\\"MovieRankingHistory-rank-10\\\\\"><div class=\\\\\"movietopmod\\\\\"><div class=\\\\\"picbox\\\\\"><i>10</i><a href=\\\\\"http://movie.mtime.com/217497\\\\\" target=\\\\\"_blank\\\\\" title=\\\\\"复仇者联盟3：无限战争/Avengers: Infinity War\\\\\"><img src=\\\\\"http://img5.mtime.cn/mt/2018/03/30/101316.99752366_185X277X4.jpg\\\\\" width=\\\\\"135\\\\\" height=\\\\\"190\\\\\" alt=\\\\\"复仇者联盟3：无限战争/Avengers: Infinity War\\\\\"/></a></div><div class=\\\\\"txtbox\\\\\"><h3><a href=\\\\\"http://movie.mtime.com/217497\\\\\" target=\\\\\"_blank\\\\\">复仇者联盟3：无限战争</a></h3><h4><a href=\\\\\"http://movie.mtime.com/217497\\\\\" target=\\\\\"_blank\\\\\">Avengers: Infinity War</a></h4><p class=\\\\\"dataday\\\\\">首日<strong>3.87</strong>亿<i>|</i>首周<strong>12.13</strong>亿</p><p>2018年05月11日上映&nbsp;3D/IMAX3D/中国巨幕</p><b><p>导演：<a href=http://people.mtime.com/903229/ target=\\\\\"_blank\\\\\">安东尼·罗素</a></p><p>主演：<a href=\\\\\"http://people.mtime.com/912602/\\\\\" target=\\\\\"_blank\\\\\">小罗伯特·唐尼</a>/<a href=\\\\\"http://people.mtime.com/911885/\\\\\" target=\\\\\"_blank\\\\\">克里斯·埃文斯</a></p><p>发行公司：<a class=\\\\\"elli\\\\\" href=http://movie.mtime.com/company/56323/ target=\\\\\"_blank\\\\\">迪士尼</a><a href=\\\\\"http://movie.mtime.com/217497/details.html#company\\\\\" target=\\\\\"_blank\\\\\" className=\\\\\"morelink\\\\\">...</a></p></b></div><div class=\\\\\"gradebox\\\\\"><p class=\\\\\"point\\\\\">8<em>.1</em></p><p>8150人评分</p></div><div class=\\\\\"totalbox\\\\\"><p class=\\\\\"totalnum\\\\\"><strong>23.90</strong>亿</p><p class=\\\\\"none\\\\\">累计人次：6250.7万</p></div></div></dd></div></div></div><div class=\\\\\"pagesize\\\\\"><a data-page=\\\\\"0\\\\\" class=\\\\\"cur\\\\\">1-10</a><a data-page=\\\\\"1\\\\\">11-20</a><a data-page=\\\\\"2\\\\\">21-30</a><a data-page=\\\\\"3\\\\\">31-40</a><a data-page=\\\\\"4\\\\\">41-50</a><a data-page=\\\\\"5\\\\\">51-60</a><a data-page=\\\\\"6\\\\\">61-70</a><a data-page=\\\\\"7\\\\\">71-80</a><a data-page=\\\\\"8\\\\\">81-90</a><a data-page=\\\\\"9\\\\\">91-100</a></div></div>\",\"cache-hit\":true}'"
      ]
     },
     "execution_count": 14,
     "metadata": {},
     "output_type": "execute_result"
    }
   ],
   "source": [
    "## test\n",
    "i=0\n",
    "parameters={\"area\":\"china\",\n",
    "           \"type\":\"MovieRankingHistory\",\n",
    "           \"category\":\"all\",\n",
    "           \"page\":f'{i}',\n",
    "           \"display\":\"list\",\n",
    "           \"timestamp\":f'{time.time()}',\n",
    "           \"version\":\"07bb781100018dd58eafc3b35d42686804c6df8d\",\n",
    "           \"dataType\":\"json\"}\n",
    "MtimeRank = rq.get(\"http://movie.mtime.com/boxoffice/\",params=parameters)\n",
    "print(MtimeRank.status_code)\n",
    "MtimeRank.text"
   ]
  },
  {
   "cell_type": "code",
   "execution_count": 15,
   "metadata": {},
   "outputs": [
    {
     "data": {
      "text/plain": [
       "dict_keys(['expire', 'html', 'cache-hit'])"
      ]
     },
     "execution_count": 15,
     "metadata": {},
     "output_type": "execute_result"
    }
   ],
   "source": [
    "type(MtimeRank.json())\n",
    "MtimeRank.json().keys()"
   ]
  },
  {
   "cell_type": "code",
   "execution_count": 36,
   "metadata": {},
   "outputs": [
    {
     "data": {
      "text/plain": [
       "<html><body><div class=\"bocontent\"><div><div class=\"typetitle\"><h4>内地影史票房</h4><p class=\"updateday\">更新时间：2019年2月11日</p><div class=\"showtype\"><span class=\"tabtype\"><a class=\"cur\" data-category=\"all\">全部</a> |<a data-category=\"china\">国产片</a> |<a data-category=\"other\">引进片</a></span><a class=\"ico-display ico-list cur\" data-display=\"list\"><i></i></a><a class=\"ico-display ico-table\" data-display=\"table\"><i></i></a></div></div><div class=\"boxofficelist\"><div><dl><dt><em class=\"paiming\">排行</em><em class=\"moviename\">影片</em><em class=\"pingfen\">时光评分</em><em class=\"piaofang\">累计票房（元）</em></dt></dl><dd id=\"MovieRankingHistory-rank-1\"><div class=\"movietopmod\"><div class=\"picbox\" style=\"background-color:#fbad68;\"><i>01</i><a href=\"http://movie.mtime.com/229733\" target=\"_blank\" title=\"战狼2/Wolf Warriors Ⅱ\"><img alt=\"战狼2/Wolf Warriors Ⅱ\" height=\"190\" src=\"http://img5.mtime.cn/mt/2017/07/21/162643.51070350_185X277X4.jpg\" width=\"135\"/></a></div><div class=\"txtbox\"><h3><a href=\"http://movie.mtime.com/229733\" target=\"_blank\">战狼2</a></h3><h4><a href=\"http://movie.mtime.com/229733\" target=\"_blank\">Wolf Warriors Ⅱ</a></h4><p class=\"dataday\">首日<strong>1.02</strong>亿<i>|</i>首周<strong>9.97</strong>亿<i>|</i>连冠4周</p><p>2017年07月27日上映 2D/3D/IMAX</p><b></b><p>导演：<a href=\"http://people.mtime.com/956786/\" target=\"_blank\">吴京</a></p><p>主演：<a href=\"http://people.mtime.com/956786/\" target=\"_blank\">吴京</a>/<a href=\"http://people.mtime.com/934883/\" target=\"_blank\">弗兰克·格里罗</a></p><p>发行公司：<a class=\"elli\" href=\"http://movie.mtime.com/company/134775/\" target=\"_blank\">北京京西文化旅游股份有限公司</a><a classname=\"morelink\" href=\"http://movie.mtime.com/229733/details.html#company\" target=\"_blank\">...</a></p></div><div class=\"gradebox\"><p class=\"point\">7<em>.4</em></p><p>16967人评分</p></div><div class=\"totalbox\"><p class=\"totalnum\"><strong>56.82</strong>亿</p><p class=\"none\">累计人次：1.60亿</p></div></div></dd><dd id=\"MovieRankingHistory-rank-2\"><div class=\"movietopmod\"><div class=\"picbox\" style=\"background-color:#a7c87f;\"><i>02</i><a href=\"http://movie.mtime.com/240425\" target=\"_blank\" title=\"红海行动/Operation Red Sea\"><img alt=\"红海行动/Operation Red Sea\" height=\"190\" src=\"http://img5.mtime.cn/mt/2018/02/17/150049.57218452_185X277X4.jpg\" width=\"135\"/></a></div><div class=\"txtbox\"><h3><a href=\"http://movie.mtime.com/240425\" target=\"_blank\">红海行动</a></h3><h4><a href=\"http://movie.mtime.com/240425\" target=\"_blank\">Operation Red Sea</a></h4><p class=\"dataday\">首日<strong>1.29</strong>亿<i>|</i>首周<strong>4.65</strong>亿</p><p>2018年02月16日上映 2D/3D/IMAX3D</p><b></b><p>导演：<a href=\"http://people.mtime.com/892901/\" target=\"_blank\">林超贤</a></p><p>主演：<a href=\"http://people.mtime.com/1311848/\" target=\"_blank\">张译</a>/<a href=\"http://people.mtime.com/2189621/\" target=\"_blank\">黄景瑜</a></p><p>发行公司：<a class=\"elli\" href=\"http://movie.mtime.com/company/22564/\" target=\"_blank\">博纳影业</a><a classname=\"morelink\" href=\"http://movie.mtime.com/240425/details.html#company\" target=\"_blank\">...</a></p></div><div class=\"gradebox\"><p class=\"point\">8<em>.1</em></p><p>10110人评分</p></div><div class=\"totalbox\"><p class=\"totalnum\"><strong>36.51</strong>亿</p><p class=\"none\">累计人次：9291.6万</p></div></div></dd><dd id=\"MovieRankingHistory-rank-3\"><div class=\"movietopmod\"><div class=\"picbox\" style=\"background-color:#66b3d6;\"><i>03</i><a href=\"http://movie.mtime.com/234873\" target=\"_blank\" title=\"唐人街探案2/Detective Chinatown 2\"><img alt=\"唐人街探案2/Detective Chinatown 2\" height=\"190\" src=\"http://img5.mtime.cn/mt/2018/02/05/093619.43082530_185X277X4.jpg\" width=\"135\"/></a></div><div class=\"txtbox\"><h3><a href=\"http://movie.mtime.com/234873\" target=\"_blank\">唐人街探案2</a></h3><h4><a href=\"http://movie.mtime.com/234873\" target=\"_blank\">Detective Chinatown 2</a></h4><p class=\"dataday\">首日<strong>3.41</strong>亿<i>|</i>首周<strong>9.90</strong>亿</p><p>2018年02月16日上映 2D/IMAX/中国巨幕</p><b></b><p>导演：<a href=\"http://people.mtime.com/1249267/\" target=\"_blank\">陈思诚</a></p><p>主演：<a href=\"http://people.mtime.com/939536/\" target=\"_blank\">王宝强</a>/<a href=\"http://people.mtime.com/2082007/\" target=\"_blank\">刘昊然</a></p><p>发行公司：<a class=\"elli\" href=\"http://movie.mtime.com/company/121271/\" target=\"_blank\">五洲电影发行有限公司</a><a classname=\"morelink\" href=\"http://movie.mtime.com/234873/details.html#company\" target=\"_blank\">...</a></p></div><div class=\"gradebox\"><p class=\"point\">6<em>.9</em></p><p>5789人评分</p></div><div class=\"totalbox\"><p class=\"totalnum\"><strong>33.98</strong>亿</p><p class=\"none\">累计人次：8766.6万</p></div></div></dd><dd id=\"MovieRankingHistory-rank-4\"><div class=\"movietopmod\"><div class=\"picbox\"><i>04</i><a href=\"http://movie.mtime.com/209007\" target=\"_blank\" title=\"美人鱼/The Mermaid\"><img alt=\"美人鱼/The Mermaid\" height=\"190\" src=\"http://img31.mtime.cn/mt/2016/02/04/165933.21865133_185X277X4.jpg\" width=\"135\"/></a></div><div class=\"txtbox\"><h3><a href=\"http://movie.mtime.com/209007\" target=\"_blank\">美人鱼</a></h3><h4><a href=\"http://movie.mtime.com/209007\" target=\"_blank\">The Mermaid</a></h4><p class=\"dataday\">首日<strong>2.72</strong>亿<i>|</i>首周<strong>18.18</strong>亿<i>|</i>连冠2周</p><p>2016年02月08日上映 3D/中国巨幕</p><b></b><p>导演：<a href=\"http://people.mtime.com/893017/\" target=\"_blank\">周星驰</a></p><p>主演：<a href=\"http://people.mtime.com/1256584/\" target=\"_blank\">邓超</a>/<a href=\"http://people.mtime.com/1257132/\" target=\"_blank\">罗志祥</a></p><p>发行公司：<a class=\"elli\" href=\"http://movie.mtime.com/company/97460/\" target=\"_blank\">中影北京发行分公司</a><a classname=\"morelink\" href=\"http://movie.mtime.com/209007/details.html#company\" target=\"_blank\">...</a></p></div><div class=\"gradebox\"><p class=\"point\">7<em>.4</em></p><p>18194人评分</p></div><div class=\"totalbox\"><p class=\"totalnum\"><strong>33.92</strong>亿</p><p class=\"none\">累计人次：9243.4万</p></div></div></dd><dd id=\"MovieRankingHistory-rank-5\"><div class=\"movietopmod\"><div class=\"picbox\"><i>05</i><a href=\"http://movie.mtime.com/242167\" target=\"_blank\" title=\"我不是药神/Dying To Survive\"><img alt=\"我不是药神/Dying To Survive\" height=\"190\" src=\"http://img5.mtime.cn/mt/2018/06/21/102400.44145684_185X277X4.jpg\" width=\"135\"/></a></div><div class=\"txtbox\"><h3><a href=\"http://movie.mtime.com/242167\" target=\"_blank\">我不是药神</a></h3><h4><a href=\"http://movie.mtime.com/242167\" target=\"_blank\">Dying To Survive</a></h4><p class=\"dataday\">首日<strong>1.60</strong>亿<i>|</i>首周<strong>11.72</strong>亿<i>|</i>连冠2周</p><p>2018年07月05日上映 2D/IMAX/中国巨幕</p><b></b><p>导演：<a href=\"http://people.mtime.com/2145801/\" target=\"_blank\">文牧野</a></p><p>主演：<a href=\"http://people.mtime.com/1248675/\" target=\"_blank\">徐峥</a>/<a href=\"http://people.mtime.com/1249511/\" target=\"_blank\">周一围</a></p><p>发行公司：<a class=\"elli\" href=\"http://movie.mtime.com/company/134775/\" target=\"_blank\">北京京西文化旅游股份有限公司</a><a classname=\"morelink\" href=\"http://movie.mtime.com/242167/details.html#company\" target=\"_blank\">...</a></p></div><div class=\"gradebox\"><p class=\"point\">8<em>.8</em></p><p>8958人评分</p></div><div class=\"totalbox\"><p class=\"totalnum\"><strong>30.98</strong>亿</p><p class=\"none\">累计人次：8899.4万</p></div></div></dd><dd id=\"MovieRankingHistory-rank-6\"><div class=\"movietopmod\"><div class=\"picbox\"><i>06</i><a href=\"http://movie.mtime.com/224149\" target=\"_blank\" title=\"速度与激情8/The Fate of the Furious\"><img alt=\"速度与激情8/The Fate of the Furious\" height=\"190\" src=\"http://img5.mtime.cn/mt/2017/03/10/100416.61663220_185X277X4.jpg\" width=\"135\"/></a></div><div class=\"txtbox\"><h3><a href=\"http://movie.mtime.com/224149\" target=\"_blank\">速度与激情8</a></h3><h4><a href=\"http://movie.mtime.com/224149\" target=\"_blank\">The Fate of the Furious</a></h4><p class=\"dataday\">首日<strong>4.21</strong>亿<i>|</i>首周<strong>13.15</strong>亿<i>|</i>连冠2周</p><p>2017年04月14日上映 2D/3D/IMAX3D</p><b></b><p>导演：<a href=\"http://people.mtime.com/898130/\" target=\"_blank\">F·加里·格雷</a></p><p>主演：<a href=\"http://people.mtime.com/913378/\" target=\"_blank\">范·迪塞尔</a>/<a href=\"http://people.mtime.com/912746/\" target=\"_blank\">道恩·强森</a></p><p>发行公司：<a class=\"elli\" href=\"http://movie.mtime.com/company/296/\" target=\"_blank\">环球</a><a classname=\"morelink\" href=\"http://movie.mtime.com/224149/details.html#company\" target=\"_blank\">...</a></p></div><div class=\"gradebox\"><p class=\"point\">7<em>.3</em></p><p>5626人评分</p></div><div class=\"totalbox\"><p class=\"totalnum\"><strong>26.96</strong>亿</p><p class=\"none\">累计人次：7361.6万</p></div></div></dd><dd id=\"MovieRankingHistory-rank-7\"><div class=\"movietopmod\"><div class=\"picbox\"><i>07</i><a href=\"http://movie.mtime.com/253688\" target=\"_blank\" title=\"西虹市首富/Hello Mr. Billionaire\"><img alt=\"西虹市首富/Hello Mr. Billionaire\" height=\"190\" src=\"http://img5.mtime.cn/mt/2018/07/23/113049.24374498_185X277X4.jpg\" width=\"135\"/></a></div><div class=\"txtbox\"><h3><a href=\"http://movie.mtime.com/253688\" target=\"_blank\">西虹市首富</a></h3><h4><a href=\"http://movie.mtime.com/253688\" target=\"_blank\">Hello Mr. Billionaire</a></h4><p class=\"dataday\">首日<strong>2.27</strong>亿<i>|</i>首周<strong>9.02</strong>亿</p><p>2018年07月27日上映 2D/IMAX</p><b></b><p>导演：<a href=\"http://people.mtime.com/2114123/\" target=\"_blank\">闫非</a></p><p>主演：<a href=\"http://people.mtime.com/1993475/\" target=\"_blank\">沈腾</a>/<a href=\"http://people.mtime.com/2090555/\" target=\"_blank\">宋芸桦</a></p></div><div class=\"gradebox\"><p class=\"point\">6<em>.7</em></p><p>5885人评分</p></div><div class=\"totalbox\"><p class=\"totalnum\"><strong>25.45</strong>亿</p><p class=\"none\">累计人次：7257.6万</p></div></div></dd><dd id=\"MovieRankingHistory-rank-8\"><div class=\"movietopmod\"><div class=\"picbox\"><i>08</i><a href=\"http://movie.mtime.com/211794\" target=\"_blank\" title=\"捉妖记/Monster Hunt\"><img alt=\"捉妖记/Monster Hunt\" height=\"190\" src=\"http://img31.mtime.cn/mt/2015/06/24/095659.10934613_185X277X4.jpg\" width=\"135\"/></a></div><div class=\"txtbox\"><h3><a href=\"http://movie.mtime.com/211794\" target=\"_blank\">捉妖记</a></h3><h4><a href=\"http://movie.mtime.com/211794\" target=\"_blank\">Monster Hunt</a></h4><p class=\"dataday\">首日<strong>1.63</strong>亿<i>|</i>首周<strong>6.65</strong>亿<i>|</i>连冠3周</p><p>2015年07月16日上映 2D/3D/IMAX3D</p><b></b><p>导演：<a href=\"http://people.mtime.com/942174/\" target=\"_blank\">许诚毅</a></p><p>主演：<a href=\"http://people.mtime.com/1575942/\" target=\"_blank\">井柏然</a>/<a href=\"http://people.mtime.com/1413704/\" target=\"_blank\">白百何</a></p><p>发行公司：<a class=\"elli\" href=\"http://movie.mtime.com/company/95963/\" target=\"_blank\">安乐(北京)电影发行有限公司</a><a classname=\"morelink\" href=\"http://movie.mtime.com/211794/details.html#company\" target=\"_blank\">...</a></p></div><div class=\"gradebox\"><p class=\"point\">7<em>.2</em></p><p>14649人评分</p></div><div class=\"totalbox\"><p class=\"totalnum\"><strong>24.39</strong>亿</p><p class=\"none\">累计人次：6561.2万</p></div></div></dd><dd id=\"MovieRankingHistory-rank-9\"><div class=\"movietopmod\"><div class=\"picbox\"><i>09</i><a href=\"http://movie.mtime.com/196613\" target=\"_blank\" title=\"速度与激情7/Fast &amp; Furious 7\"><img alt=\"速度与激情7/Fast &amp; Furious 7\" height=\"190\" src=\"http://img31.mtime.cn/mt/2015/03/17/095942.88667571_185X277X4.jpg\" width=\"135\"/></a></div><div class=\"txtbox\"><h3><a href=\"http://movie.mtime.com/196613\" target=\"_blank\">速度与激情7</a></h3><h4><a href=\"http://movie.mtime.com/196613\" target=\"_blank\">Fast &amp; Furious 7</a></h4><p class=\"dataday\">首日<strong>3.46</strong>亿<i>|</i>首周<strong>3.46</strong>亿<i>|</i>连冠4周</p><p>2015年04月12日上映 2D/3D/IMAX3D</p><b></b><p>导演：<a href=\"http://people.mtime.com/907108/\" target=\"_blank\">温子仁</a></p><p>主演：<a href=\"http://people.mtime.com/913378/\" target=\"_blank\">范·迪塞尔</a>/<a href=\"http://people.mtime.com/914051/\" target=\"_blank\">保罗·沃克</a></p><p>发行公司：<a class=\"elli\" href=\"http://movie.mtime.com/company/296/\" target=\"_blank\">环球</a><a classname=\"morelink\" href=\"http://movie.mtime.com/196613/details.html#company\" target=\"_blank\">...</a></p></div><div class=\"gradebox\"><p class=\"point\">8<em>.3</em></p><p>21658人评分</p></div><div class=\"totalbox\"><p class=\"totalnum\"><strong>24.27</strong>亿</p><p class=\"none\">累计人次：6244.5万</p></div></div></dd><dd id=\"MovieRankingHistory-rank-10\"><div class=\"movietopmod\"><div class=\"picbox\"><i>10</i><a href=\"http://movie.mtime.com/217497\" target=\"_blank\" title=\"复仇者联盟3：无限战争/Avengers: Infinity War\"><img alt=\"复仇者联盟3：无限战争/Avengers: Infinity War\" height=\"190\" src=\"http://img5.mtime.cn/mt/2018/03/30/101316.99752366_185X277X4.jpg\" width=\"135\"/></a></div><div class=\"txtbox\"><h3><a href=\"http://movie.mtime.com/217497\" target=\"_blank\">复仇者联盟3：无限战争</a></h3><h4><a href=\"http://movie.mtime.com/217497\" target=\"_blank\">Avengers: Infinity War</a></h4><p class=\"dataday\">首日<strong>3.87</strong>亿<i>|</i>首周<strong>12.13</strong>亿</p><p>2018年05月11日上映 3D/IMAX3D/中国巨幕</p><b></b><p>导演：<a href=\"http://people.mtime.com/903229/\" target=\"_blank\">安东尼·罗素</a></p><p>主演：<a href=\"http://people.mtime.com/912602/\" target=\"_blank\">小罗伯特·唐尼</a>/<a href=\"http://people.mtime.com/911885/\" target=\"_blank\">克里斯·埃文斯</a></p><p>发行公司：<a class=\"elli\" href=\"http://movie.mtime.com/company/56323/\" target=\"_blank\">迪士尼</a><a classname=\"morelink\" href=\"http://movie.mtime.com/217497/details.html#company\" target=\"_blank\">...</a></p></div><div class=\"gradebox\"><p class=\"point\">8<em>.1</em></p><p>8150人评分</p></div><div class=\"totalbox\"><p class=\"totalnum\"><strong>23.90</strong>亿</p><p class=\"none\">累计人次：6250.7万</p></div></div></dd></div></div></div><div class=\"pagesize\"><a class=\"cur\" data-page=\"0\">1-10</a><a data-page=\"1\">11-20</a><a data-page=\"2\">21-30</a><a data-page=\"3\">31-40</a><a data-page=\"4\">41-50</a><a data-page=\"5\">51-60</a><a data-page=\"6\">61-70</a><a data-page=\"7\">71-80</a><a data-page=\"8\">81-90</a><a data-page=\"9\">91-100</a></div></div></body></html>"
      ]
     },
     "execution_count": 36,
     "metadata": {},
     "output_type": "execute_result"
    }
   ],
   "source": [
    "soup=bsp(MtimeRank.json()['html'])\n",
    "soup"
   ]
  },
  {
   "cell_type": "code",
   "execution_count": 263,
   "metadata": {},
   "outputs": [
    {
     "name": "stdout",
     "output_type": "stream",
     "text": [
      "<class 'bs4.element.Tag'> <class 'list'> [<a href=\"http://movie.mtime.com/229733\" target=\"_blank\">战狼2</a>]\n",
      "h4 <class 'bs4.element.Tag'> <class 'str'> Wolf Warriors Ⅱ\n",
      "p <class 'bs4.element.Tag'> <class 'str'> 首日1.02亿|首周9.97亿|连冠4周\n",
      "p <class 'bs4.element.Tag'> <class 'str'> 2017年07月27日上映 2D/3D/IMAX\n",
      "p <class 'bs4.element.Tag'> <class 'str'> 导演：吴京\n",
      "p <class 'bs4.element.Tag'> <class 'str'> 主演：吴京/弗兰克·格里罗\n",
      "p <class 'bs4.element.Tag'> <class 'str'> 发行公司：北京京西文化旅游股份有限公司...\n",
      "\n",
      "7.4\n",
      "16967人评分\n",
      "56.82亿\n",
      "累计人次：1.60亿\n",
      "<class 'bs4.element.Tag'> <class 'list'> [<a href=\"http://movie.mtime.com/240425\" target=\"_blank\">红海行动</a>]\n",
      "h4 <class 'bs4.element.Tag'> <class 'str'> Operation Red Sea\n",
      "p <class 'bs4.element.Tag'> <class 'str'> 首日1.29亿|首周4.65亿\n",
      "p <class 'bs4.element.Tag'> <class 'str'> 2018年02月16日上映 2D/3D/IMAX3D\n",
      "p <class 'bs4.element.Tag'> <class 'str'> 导演：林超贤\n",
      "p <class 'bs4.element.Tag'> <class 'str'> 主演：张译/黄景瑜\n",
      "p <class 'bs4.element.Tag'> <class 'str'> 发行公司：博纳影业...\n",
      "\n",
      "8.1\n",
      "10110人评分\n",
      "36.51亿\n",
      "累计人次：9291.6万\n",
      "<class 'bs4.element.Tag'> <class 'list'> [<a href=\"http://movie.mtime.com/234873\" target=\"_blank\">唐人街探案2</a>]\n",
      "h4 <class 'bs4.element.Tag'> <class 'str'> Detective Chinatown 2\n",
      "p <class 'bs4.element.Tag'> <class 'str'> 首日3.41亿|首周9.90亿\n",
      "p <class 'bs4.element.Tag'> <class 'str'> 2018年02月16日上映 2D/IMAX/中国巨幕\n",
      "p <class 'bs4.element.Tag'> <class 'str'> 导演：陈思诚\n",
      "p <class 'bs4.element.Tag'> <class 'str'> 主演：王宝强/刘昊然\n",
      "p <class 'bs4.element.Tag'> <class 'str'> 发行公司：五洲电影发行有限公司...\n",
      "\n",
      "6.9\n",
      "5789人评分\n",
      "33.98亿\n",
      "累计人次：8766.6万\n",
      "<class 'bs4.element.Tag'> <class 'list'> [<a href=\"http://movie.mtime.com/209007\" target=\"_blank\">美人鱼</a>]\n",
      "h4 <class 'bs4.element.Tag'> <class 'str'> The Mermaid\n",
      "p <class 'bs4.element.Tag'> <class 'str'> 首日2.72亿|首周18.18亿|连冠2周\n",
      "p <class 'bs4.element.Tag'> <class 'str'> 2016年02月08日上映 3D/中国巨幕\n",
      "p <class 'bs4.element.Tag'> <class 'str'> 导演：周星驰\n",
      "p <class 'bs4.element.Tag'> <class 'str'> 主演：邓超/罗志祥\n",
      "p <class 'bs4.element.Tag'> <class 'str'> 发行公司：中影北京发行分公司...\n",
      "\n",
      "7.4\n",
      "18194人评分\n",
      "33.92亿\n",
      "累计人次：9243.4万\n",
      "<class 'bs4.element.Tag'> <class 'list'> [<a href=\"http://movie.mtime.com/242167\" target=\"_blank\">我不是药神</a>]\n",
      "h4 <class 'bs4.element.Tag'> <class 'str'> Dying To Survive\n",
      "p <class 'bs4.element.Tag'> <class 'str'> 首日1.60亿|首周11.72亿|连冠2周\n",
      "p <class 'bs4.element.Tag'> <class 'str'> 2018年07月05日上映 2D/IMAX/中国巨幕\n",
      "p <class 'bs4.element.Tag'> <class 'str'> 导演：文牧野\n",
      "p <class 'bs4.element.Tag'> <class 'str'> 主演：徐峥/周一围\n",
      "p <class 'bs4.element.Tag'> <class 'str'> 发行公司：北京京西文化旅游股份有限公司...\n",
      "\n",
      "8.8\n",
      "8958人评分\n",
      "30.98亿\n",
      "累计人次：8899.4万\n",
      "<class 'bs4.element.Tag'> <class 'list'> [<a href=\"http://movie.mtime.com/224149\" target=\"_blank\">速度与激情8</a>]\n",
      "h4 <class 'bs4.element.Tag'> <class 'str'> The Fate of the Furious\n",
      "p <class 'bs4.element.Tag'> <class 'str'> 首日4.21亿|首周13.15亿|连冠2周\n",
      "p <class 'bs4.element.Tag'> <class 'str'> 2017年04月14日上映 2D/3D/IMAX3D\n",
      "p <class 'bs4.element.Tag'> <class 'str'> 导演：F·加里·格雷\n",
      "p <class 'bs4.element.Tag'> <class 'str'> 主演：范·迪塞尔/道恩·强森\n",
      "p <class 'bs4.element.Tag'> <class 'str'> 发行公司：环球...\n",
      "\n",
      "7.3\n",
      "5626人评分\n",
      "26.96亿\n",
      "累计人次：7361.6万\n",
      "<class 'bs4.element.Tag'> <class 'list'> [<a href=\"http://movie.mtime.com/253688\" target=\"_blank\">西虹市首富</a>]\n",
      "h4 <class 'bs4.element.Tag'> <class 'str'> Hello Mr. Billionaire\n",
      "p <class 'bs4.element.Tag'> <class 'str'> 首日2.27亿|首周9.02亿\n",
      "p <class 'bs4.element.Tag'> <class 'str'> 2018年07月27日上映 2D/IMAX\n",
      "p <class 'bs4.element.Tag'> <class 'str'> 导演：闫非\n",
      "p <class 'bs4.element.Tag'> <class 'str'> 主演：沈腾/宋芸桦\n",
      "\n",
      "6.7\n",
      "5885人评分\n",
      "25.45亿\n",
      "累计人次：7257.6万\n",
      "<class 'bs4.element.Tag'> <class 'list'> [<a href=\"http://movie.mtime.com/211794\" target=\"_blank\">捉妖记</a>]\n",
      "h4 <class 'bs4.element.Tag'> <class 'str'> Monster Hunt\n",
      "p <class 'bs4.element.Tag'> <class 'str'> 首日1.63亿|首周6.65亿|连冠3周\n",
      "p <class 'bs4.element.Tag'> <class 'str'> 2015年07月16日上映 2D/3D/IMAX3D\n",
      "p <class 'bs4.element.Tag'> <class 'str'> 导演：许诚毅\n",
      "p <class 'bs4.element.Tag'> <class 'str'> 主演：井柏然/白百何\n",
      "p <class 'bs4.element.Tag'> <class 'str'> 发行公司：安乐(北京)电影发行有限公司...\n",
      "\n",
      "7.2\n",
      "14649人评分\n",
      "24.39亿\n",
      "累计人次：6561.2万\n",
      "<class 'bs4.element.Tag'> <class 'list'> [<a href=\"http://movie.mtime.com/196613\" target=\"_blank\">速度与激情7</a>]\n",
      "h4 <class 'bs4.element.Tag'> <class 'str'> Fast & Furious 7\n",
      "p <class 'bs4.element.Tag'> <class 'str'> 首日3.46亿|首周3.46亿|连冠4周\n",
      "p <class 'bs4.element.Tag'> <class 'str'> 2015年04月12日上映 2D/3D/IMAX3D\n",
      "p <class 'bs4.element.Tag'> <class 'str'> 导演：温子仁\n",
      "p <class 'bs4.element.Tag'> <class 'str'> 主演：范·迪塞尔/保罗·沃克\n",
      "p <class 'bs4.element.Tag'> <class 'str'> 发行公司：环球...\n",
      "\n",
      "8.3\n",
      "21658人评分\n",
      "24.27亿\n",
      "累计人次：6244.5万\n",
      "<class 'bs4.element.Tag'> <class 'list'> [<a href=\"http://movie.mtime.com/217497\" target=\"_blank\">复仇者联盟3：无限战争</a>]\n",
      "h4 <class 'bs4.element.Tag'> <class 'str'> Avengers: Infinity War\n",
      "p <class 'bs4.element.Tag'> <class 'str'> 首日3.87亿|首周12.13亿\n",
      "p <class 'bs4.element.Tag'> <class 'str'> 2018年05月11日上映 3D/IMAX3D/中国巨幕\n",
      "p <class 'bs4.element.Tag'> <class 'str'> 导演：安东尼·罗素\n",
      "p <class 'bs4.element.Tag'> <class 'str'> 主演：小罗伯特·唐尼/克里斯·埃文斯\n",
      "p <class 'bs4.element.Tag'> <class 'str'> 发行公司：迪士尼...\n",
      "\n",
      "8.1\n",
      "8150人评分\n",
      "23.90亿\n",
      "累计人次：6250.7万\n"
     ]
    }
   ],
   "source": [
    "## h3.a name in Chinese\n",
    "## h4.a name in English\n",
    "## test \n",
    "basic_info=soup.find_all(\"div\",{\"class\":\"txtbox\"})\n",
    "for info in basic_info:\n",
    "    for i in info.contents:\n",
    "        if i.name != 'b':\n",
    "            if i.name == 'h3':\n",
    "                print(type(i.a),type(i.contents),str(i.contents))\n",
    "            else:\n",
    "                print(i.name,type(i),type(i.text),i.text)\n",
    "    print('')   \n",
    "    for i in list(info.next_siblings):\n",
    "        for j in i.contents:\n",
    "            print(j.text)"
   ]
  },
  {
   "cell_type": "code",
   "execution_count": 322,
   "metadata": {},
   "outputs": [
    {
     "name": "stdout",
     "output_type": "stream",
     "text": [
      "Table 1 of the MTime Boxoffice successfully connected.\n",
      "Table 2 of the MTime Boxoffice successfully connected.\n",
      "Table 3 of the MTime Boxoffice successfully connected.\n",
      "Table 4 of the MTime Boxoffice successfully connected.\n",
      "Table 5 of the MTime Boxoffice successfully connected.\n",
      "Table 6 of the MTime Boxoffice successfully connected.\n",
      "Table 7 of the MTime Boxoffice successfully connected.\n",
      "Table 8 of the MTime Boxoffice successfully connected.\n",
      "Table 9 of the MTime Boxoffice successfully connected.\n",
      "Table 10 of the MTime Boxoffice successfully connected.\n"
     ]
    }
   ],
   "source": [
    "## strin data\n",
    "## some movie misses distribution companies\n",
    "with open('mtime_data.txt', mode='w') as file:\n",
    "    rank=1\n",
    "    for page in range(10):\n",
    "        parameters={\"area\":\"china\",\n",
    "                   \"type\":\"MovieRankingHistory\",\n",
    "                   \"category\":\"all\",\n",
    "                   \"page\":f'{page}',\n",
    "                   \"display\":\"list\",\n",
    "                   \"timestamp\":f'{time.time()}',\n",
    "                   \"version\":\"07bb781100018dd58eafc3b35d42686804c6df8d\",\n",
    "                   \"dataType\":\"json\"}\n",
    "        MtimeRank = rq.get(\"http://movie.mtime.com/boxoffice/\",params=parameters) \n",
    "        if MtimeRank.status_code==200:\n",
    "            print(f'Table {page+1} of the MTime Boxoffice successfully connected.')\n",
    "\n",
    "        soup=bsp(MtimeRank.json()['html'])\n",
    "        basic_info=soup.find_all(\"div\",{\"class\":\"txtbox\"})\n",
    "        \n",
    "        for info in basic_info:\n",
    "            for i in info.contents:\n",
    "                if i.name !=\"b\":\n",
    "                    if i.name == 'h3':\n",
    "                        file.write('排名: {}\\n'.format(rank))\n",
    "                        \n",
    "                        id_name=str(i.contents)\n",
    "                        file.write('{}\\n'.format(re.search(\"http.+[0-9]+\\\"\",id_name).group(0)[:-1]))\n",
    "                        file.write('{}\\n'.format(re.search(\"\\>.+\\<\",id_name).group(0)[1:-1]))\n",
    "                        \n",
    "                    else:\n",
    "                        file.write('{}\\n'.format(i.text))\n",
    "                        \n",
    "            for i in list(info.next_siblings):\n",
    "                for j in i.contents:\n",
    "                    file.write('{}\\n'.format(j.text))\n",
    "            \n",
    "            rank+=1\n",
    "            \n",
    "\n",
    "    file.flush()"
   ]
  },
  {
   "cell_type": "code",
   "execution_count": 130,
   "metadata": {},
   "outputs": [
    {
     "name": "stdout",
     "output_type": "stream",
     "text": [
      "[<strong>1.02</strong>, <strong>9.97</strong>] \n",
      "\n",
      "[<strong>1.29</strong>, <strong>4.65</strong>] \n",
      "\n",
      "[<strong>3.41</strong>, <strong>9.90</strong>] \n",
      "\n",
      "[<strong>2.72</strong>, <strong>18.18</strong>] \n",
      "\n",
      "[<strong>1.60</strong>, <strong>11.72</strong>] \n",
      "\n",
      "[<strong>4.21</strong>, <strong>13.15</strong>] \n",
      "\n",
      "[<strong>2.27</strong>, <strong>9.02</strong>] \n",
      "\n",
      "[<strong>1.63</strong>, <strong>6.65</strong>] \n",
      "\n",
      "[<strong>3.46</strong>, <strong>3.46</strong>] \n",
      "\n",
      "[<strong>3.87</strong>, <strong>12.13</strong>] \n",
      "\n"
     ]
    }
   ],
   "source": [
    "## create data in a pandas data frame\n",
    "id_link=[]\n",
    "chinese_name=[]\n",
    "english_name=[]"
   ]
  },
  {
   "cell_type": "code",
   "execution_count": 313,
   "metadata": {},
   "outputs": [
    {
     "name": "stdout",
     "output_type": "stream",
     "text": [
      "[<a href=\"http://movie.mtime.com/229733\" target=\"_blank\">战狼2</a>]\n",
      "http://movie.mtime.com/229733\n",
      "战狼2\n"
     ]
    }
   ],
   "source": [
    "## test\n",
    "test='[<a href=\"http://movie.mtime.com/229733\" target=\"_blank\">战狼2</a>]'\n",
    "print(test)\n",
    "print(re.search(\"http.+[0-9]+\\\"\",test).group(0)[:-1])\n",
    "print(re.search(\"\\>.+\\<\",test).group(0)[1:-1])"
   ]
  },
  {
   "cell_type": "code",
   "execution_count": 315,
   "metadata": {},
   "outputs": [
    {
     "data": {
      "text/plain": [
       "False"
      ]
     },
     "execution_count": 315,
     "metadata": {},
     "output_type": "execute_result"
    }
   ],
   "source": [
    "'发行' in \"公司\""
   ]
  },
  {
   "cell_type": "code",
   "execution_count": null,
   "metadata": {},
   "outputs": [],
   "source": []
  }
 ],
 "metadata": {
  "kernelspec": {
   "display_name": "Python 3",
   "language": "python",
   "name": "python3"
  },
  "language_info": {
   "codemirror_mode": {
    "name": "ipython",
    "version": 3
   },
   "file_extension": ".py",
   "mimetype": "text/x-python",
   "name": "python",
   "nbconvert_exporter": "python",
   "pygments_lexer": "ipython3",
   "version": "3.7.0"
  }
 },
 "nbformat": 4,
 "nbformat_minor": 2
}
