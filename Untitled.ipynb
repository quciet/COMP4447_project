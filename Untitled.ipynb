{
 "cells": [
  {
   "cell_type": "markdown",
   "metadata": {},
   "source": [
    "# COMP4447_Project\n",
    "\n",
    "\n",
    "## 1. Team member & Project objective\n",
    "- Yutang Xiong\n",
    "- Using techniques from data science tools class to do an analysis on Chinese movie market. Objective includes but not limited to see the sales trend, which actors/actresses/directors/filming companies/distribution companies are the money machines, etc. \n",
    "\n",
    "## 2. Data attributes & Metadata\n",
    "+ Movie name: 美人鱼(Mermaid); 功夫熊猫2(Kung Fu Panda 2)\n",
    "+ Movie category: 喜剧,爱情,科幻; 喜剧,动画,动作\n",
    "+ Date in theaters: 2016-02-08; 2011-05-28\n",
    "+ Movie length: 1hr33min; 1hr30min\n",
    "+ Audience rating: 9.0; 8.7\n",
    "+ Number of Graders: 312万; 1560\n",
    "+ Total sales: 33.86亿, 338627万元; 6.11亿, 61173 万元\n",
    "+ First day sales: 2.71亿; 5344.6万\n",
    "+ First week sales: 18.19亿; 1.15亿\n",
    "+ 2D/3D: 3D; 3DIMAX      \n",
    "+ Country: 中国; 美国\n",
    "+ Director: 周星驰, 林子聪; 吕寅荣\n",
    "+ Casts: 邓超, 罗志祥; 杰克·布莱克, 安吉丽娜·朱莉\n",
    "+ Producing: 中国电影股份有限公司; 梦工厂动画\n",
    "+ Distribution: null ; 美国派拉蒙影片公司\n",
    "\n",
    "## 3. Timeline\n",
    "\n",
    "| Process | Week | Date |\n",
    "|-----------------------------------------|--------|----------|\n",
    "| data collection | week 6 | Feb 17th |\n",
    "| data clean/transformation | week 7 | Feb 24th |\n",
    "| feature engineering/statistical summary | week 8 | Mar 3rd |\n",
    "| visulization | week 9 | Mar 8th  |"
   ]
  }
 ],
 "metadata": {
  "kernelspec": {
   "display_name": "Python 3",
   "language": "python",
   "name": "python3"
  },
  "language_info": {
   "codemirror_mode": {
    "name": "ipython",
    "version": 3
   },
   "file_extension": ".py",
   "mimetype": "text/x-python",
   "name": "python",
   "nbconvert_exporter": "python",
   "pygments_lexer": "ipython3",
   "version": "3.7.0"
  }
 },
 "nbformat": 4,
 "nbformat_minor": 2
}
