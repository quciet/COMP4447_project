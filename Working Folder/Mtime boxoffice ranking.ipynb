{
 "cells": [
  {
   "cell_type": "code",
   "execution_count": 1,
   "metadata": {},
   "outputs": [],
   "source": [
    "import pandas as pd\n",
    "import requests as rq\n",
    "import numpy as np\n",
    "from bs4 import BeautifulSoup as bsp\n",
    "import time\n",
    "import re"
   ]
  },
  {
   "cell_type": "code",
   "execution_count": 2,
   "metadata": {},
   "outputs": [
    {
     "name": "stdout",
     "output_type": "stream",
     "text": [
      "User-agent: *\r",
      "\r\n",
      "Disallow: /bin/\r",
      "\r\n",
      "Disallow: /css/\r",
      "\r\n",
      "Disallow: /js/\r",
      "\r\n",
      "Disallow: /config/\r",
      "\r\n",
      "Disallow: /posters_and_images/\r",
      "\r\n",
      "Disallow: /movie/video/\r",
      "\r\n",
      "Disallow: /movie/section/\r",
      "\r\n",
      "Disallow: /pr/\r",
      "\r\n",
      "Disallow: /comment_news/\r",
      "\r\n",
      "Disallow: /search/\r",
      "\r\n",
      "Sitemap:/google.sitemapindex\r",
      "\r\n",
      "\r",
      "\r\n",
      "\r",
      "\r\n",
      "User-agent: Googlebot\r",
      "\r\n",
      "Crawl-delay: 60\r",
      "\r\n",
      "User-agent: googlebot-image\r",
      "\r\n",
      "Crawl-delay: 60\r",
      "\r\n",
      "User-agent: googlebot-mobile\r",
      "\r\n",
      "Crawl-delay: 60\r",
      "\r\n",
      "User-agent: Slurp\r",
      "\r\n",
      "Crawl-delay: 60"
     ]
    }
   ],
   "source": [
    "!curl  http://www.mtime.com/robots.txt"
   ]
  },
  {
   "cell_type": "code",
   "execution_count": 3,
   "metadata": {},
   "outputs": [],
   "source": [
    "## get the rank and link to each individual movie for top 100 sales in China\n",
    "for area in [\"china\",\"global\",\"NorthAmerica\"]:\n",
    "    with open('mtime_data_'+area+'.txt', mode='w') as file:\n",
    "        rank=1\n",
    "        for page in range(10):\n",
    "            parameters={\"area\":area,\n",
    "                       \"type\":\"MovieRankingHistory\",\n",
    "                       \"category\":\"all\",\n",
    "                       \"page\":f'{page}',\n",
    "                       \"display\":\"list\",\n",
    "                       \"timestamp\":f'{time.time()}',\n",
    "                       \"version\":\"07bb781100018dd58eafc3b35d42686804c6df8d\",\n",
    "                       \"dataType\":\"json\"}\n",
    "            try:\n",
    "                MtimeRank = rq.get(\"http://movie.mtime.com/boxoffice/\",params=parameters,timeout=10)\n",
    "            except:\n",
    "                print(f'Page {page} of area {area} for the MTime Boxoffice connection timeout')\n",
    "                continue\n",
    "                \n",
    "            if MtimeRank.status_code!=200:\n",
    "                print(f'Page {page} of area {area} for the MTime Boxoffice failed connection.')\n",
    "                continue\n",
    "\n",
    "            soup=bsp(MtimeRank.json()['html'])\n",
    "            basic_info=soup.find_all(\"div\",{\"class\":\"txtbox\"})\n",
    "        \n",
    "            for info in basic_info:\n",
    "                for i in info.contents:\n",
    "                    if i.name !=\"b\":\n",
    "                        if i.name == 'h3':\n",
    "                            ## creating a personal split symbol \"--;\" for convenience\n",
    "                            file.write('{}--;'.format(rank))\n",
    "                            id_name=str(i.contents)\n",
    "                            file.write('{}--;'.format(re.search(\"http.+[0-9]+\\\"\",id_name).group(0)[:-1]))\n",
    "                            file.write('{}--;'.format(re.search(\"\\>.+\\<\",id_name).group(0)[1:-1]))\n",
    "                        else:\n",
    "                            file.write('{}--;'.format(i.text))\n",
    "                for j in list(info.next_siblings):\n",
    "                    for k in j.contents:\n",
    "                        file.write('{}--;'.format(k.text))\n",
    "                file.write('\\n')\n",
    "                # increase the rank and go to next moive\n",
    "                rank+=1\n",
    "        file.flush()\n",
    "## notice that sales in china is in CNY¥ while its USD$ for global & NA"
   ]
  },
  {
   "cell_type": "code",
   "execution_count": 7,
   "metadata": {},
   "outputs": [
    {
     "name": "stdout",
     "output_type": "stream",
     "text": [
      "['1', 'http://movie.mtime.com/229733', '战狼2', 'Wolf Warriors Ⅱ', '首日1.02亿|首周9.97亿|连冠4周', '2017年07月27日上映\\xa02D/3D/IMAX', '导演：吴京', '主演：吴京/弗兰克·格里罗', '发行公司：北京京西文化旅游股份有限公司...', '7.4', '17009人评分', '56.82亿', '累计人次：1.60亿']\n",
      "['1', 'http://movie.mtime.com/45997', '阿凡达', 'Avatar', '2009年12月17日英国上映\\xa02D/3D/IMAX', '导演：詹姆斯·卡梅隆', '主演：萨姆·沃辛顿/佐伊·索尔达娜', '发行公司：中影...', '8.8', '68014人评分', '27.88亿']\n",
      "['1', 'http://movie.mtime.com/192895', '星球大战：原力觉醒', 'Star Wars: The Force Awakens', '首日1.19亿|首周3.91亿', '2015年12月18日美国上映\\xa02D/3D/IMAX3D', '导演：J·J·艾布拉姆斯', '主演：黛茜·雷德利/约翰·波耶加', '发行公司：中影...', '7.6', '9137人评分', '9.37亿']\n"
     ]
    }
   ],
   "source": [
    "## see if crutial information has been scraped \n",
    "for area in [\"china\",\"global\",\"NorthAmerica\"]:\n",
    "    with open('mtime_data_'+area+'.txt', mode='r') as file:\n",
    "        contents=file.read()\n",
    "    assert len(re.findall(\"http\",contents))==100\n",
    "    ## check scraped information for a movie\n",
    "    basic_info=[]\n",
    "    info_size=[]\n",
    "    with open('mtime_data_'+area+'.txt', mode='r') as file:\n",
    "        for line in file:\n",
    "            basic=line.strip(\"\\n--;\").split(\"--;\")\n",
    "            basic_info.append(basic)\n",
    "            info_size.append(len(basic))\n",
    "    # output a sample basic information\n",
    "    for i in basic_info:\n",
    "        if len(i)==max(info_size):\n",
    "            output=i\n",
    "        break\n",
    "    print(output)"
   ]
  },
  {
   "cell_type": "code",
   "execution_count": null,
   "metadata": {},
   "outputs": [],
   "source": []
  }
 ],
 "metadata": {
  "kernelspec": {
   "display_name": "Python 3",
   "language": "python",
   "name": "python3"
  },
  "language_info": {
   "codemirror_mode": {
    "name": "ipython",
    "version": 3
   },
   "file_extension": ".py",
   "mimetype": "text/x-python",
   "name": "python",
   "nbconvert_exporter": "python",
   "pygments_lexer": "ipython3",
   "version": "3.7.0"
  }
 },
 "nbformat": 4,
 "nbformat_minor": 2
}
