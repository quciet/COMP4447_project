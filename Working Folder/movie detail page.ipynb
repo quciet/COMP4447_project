{
 "cells": [
  {
   "cell_type": "code",
   "execution_count": 2,
   "metadata": {},
   "outputs": [],
   "source": [
    "import pandas as pd\n",
    "import requests as rq\n",
    "import numpy as np\n",
    "from bs4 import BeautifulSoup as bsp\n",
    "import time\n",
    "import re"
   ]
  },
  {
   "cell_type": "code",
   "execution_count": 3,
   "metadata": {},
   "outputs": [
    {
     "name": "stdout",
     "output_type": "stream",
     "text": [
      "45997 Time out\n",
      "229733 Time out\n"
     ]
    }
   ],
   "source": [
    "## movie details page test\n",
    "for i in [45997,229733]:\n",
    "    try:\n",
    "        detailpage=rq.get(\"http://movie.mtime.com/\"+i,timeout=0.1)\n",
    "    except:\n",
    "        print(f'{i} Time out')"
   ]
  },
  {
   "cell_type": "code",
   "execution_count": null,
   "metadata": {},
   "outputs": [],
   "source": [
    "detailpage=rq.get(\"http://movie.mtime.com/229733\",timeout=10)\n",
    "print(detailpage.status_code)\n",
    "soup=bsp(detailpage.text,\"lxml\")\n",
    "## Runtime, Genre(catergory), ReleaseDate, FilmFormat\n",
    "more_infor=soup.body.find_all(\"div\",{\"class\":\"otherbox\"})\n",
    "more_infor[0].text.split(\"-\")"
   ]
  },
  {
   "cell_type": "code",
   "execution_count": 5,
   "metadata": {},
   "outputs": [
    {
     "name": "stdout",
     "output_type": "stream",
     "text": [
      "200\n"
     ]
    },
    {
     "data": {
      "text/plain": [
       "{'演员 Actor': ['吴京 Jing Wu',\n",
       "  '弗兰克·格里罗 Frank Grillo',\n",
       "  '吴刚 Gang Wu',\n",
       "  '张翰 Han Zhang',\n",
       "  '卢靖姗 Celina Jade',\n",
       "  '丁海峰 Haifeng Ding',\n",
       "  '余男 Nan Yu',\n",
       "  '于谦 Qian Yu',\n",
       "  'Nwachukwu Kennedy ..',\n",
       "  'Diana Sylla',\n",
       "  '石兆琪 Zhaoqi Shi',\n",
       "  '淳于珊珊 Shanshan Chunyu',\n",
       "  '倪大红 Dahong Ni',\n",
       "  '肖竹 Zhu Xiao',\n",
       "  'Qiang Ma',\n",
       "  'Zibin Fang',\n",
       "  'Sen Wang',\n",
       "  'Tengyuan Liu',\n",
       "  'Yongda Zhang',\n",
       "  'Xiaolong Zhang',\n",
       "  'Zi Liang',\n",
       "  'Guangping Guo',\n",
       "  '茹萍 Ping Ru',\n",
       "  'Doudou',\n",
       "  'Zhang Heng',\n",
       "  'Miaomiao Tian',\n",
       "  'Yuanyuan Shan',\n",
       "  'Mao San',\n",
       "  '斯科特·阿特金斯 Scott Adkins',\n",
       "  '凯文·李 Kevin Lee',\n",
       "  'Christopher Collins',\n",
       "  '索纳·伊姆贝 Sona Eyambe',\n",
       "  '凯尔·夏皮罗 Kyle Shapiro',\n",
       "  '塞缪尔·西维尔奇 Samuel Thivierge',\n",
       "  'Alberto Bossum',\n",
       "  'Afshin',\n",
       "  '邓紫衣 Ziyi Deng',\n",
       "  '赵毅 Yi Zhao'],\n",
       " '导演 Director': ['吴京', 'Jing Wu'],\n",
       " '编剧 Writer': ['吴京 Jing Wu', '刘毅 Yi Liu', '董群 Qun Dong'],\n",
       " '制作人 Produced by': ['关海龙 Hailong Guan - 制片人',\n",
       "  '张苗 Miao Zhang - 制片人',\n",
       "  '嵇道青 Daoqing Ji - 制片人',\n",
       "  '吴京 Jing Wu - 出品人',\n",
       "  '吕建民 Jianmin Lv - 出品人',\n",
       "  '徐子泉 Ziquan Xu - 出品人',\n",
       "  '俞白眉 Baimei Yu - 出品人',\n",
       "  '梁颖 Ying Liang - 执行制片人',\n",
       "  '孙杨 Yang Sun - 制片主任',\n",
       "  '徐志伟 Zhiwei Xu - 制片主任'],\n",
       " '摄影 Cinematography': ['敖志君 Peter Ngor'],\n",
       " '剪辑 Film Editing': ['张嘉辉 Kar Fei Cheung'],\n",
       " '原创音乐 Original Music': ['Joseph Trapanese'],\n",
       " '美术设计 Art Direction by': ['李景文 Kingman Lee', '王立刚 Ligang Wang'],\n",
       " '动作指导 Choreographer': ['萨姆·哈格里夫 Sam Hargrave', '黄伟亮 Wai Leung Wong']}"
      ]
     },
     "execution_count": 5,
     "metadata": {},
     "output_type": "execute_result"
    }
   ],
   "source": [
    "detailpage=rq.get(\"http://movie.mtime.com/229733/fullcredits.html\",timeout=10)\n",
    "print(detailpage.status_code)\n",
    "soup=bsp(detailpage.text,\"lxml\")\n",
    "## 演、职员\n",
    "actor_sec=soup.body.find_all(\"div\",{\"class\":\"actor_tit\"})\n",
    "people={}\n",
    "actor_name=[]\n",
    "for i in actor_sec:\n",
    "    if i.h4:\n",
    "        actor=i.h4.text.strip()\n",
    "    else:\n",
    "        actor_name.append(i.text.strip())\n",
    "people[actor]=actor_name \n",
    "## Staff member\n",
    "staff_sec=soup.body.find_all(\"div\",{\"class\":\"credits_r\"})[0].find_all(\"div\",{\"class\":\"credits_list\"})\n",
    "for i in staff_sec:\n",
    "    title=(i.h4.text.strip())\n",
    "    member_list=[]\n",
    "    member=i.find_all('p')\n",
    "    if member:\n",
    "        for p in member:\n",
    "            member_list.append(p.text.strip())\n",
    "    people[title]=member_list\n",
    "people"
   ]
  },
  {
   "cell_type": "code",
   "execution_count": 6,
   "metadata": {},
   "outputs": [
    {
     "data": {
      "text/plain": [
       "200"
      ]
     },
     "execution_count": 6,
     "metadata": {},
     "output_type": "execute_result"
    }
   ],
   "source": [
    "detailpage=rq.get(\"http://movie.mtime.com/196613/awards.html\",timeout=10)\n",
    "detailpage.status_code\n",
    "# 229733 \n",
    "# 262215\n",
    "# 242167\n",
    "# 196613"
   ]
  },
  {
   "cell_type": "code",
   "execution_count": 7,
   "metadata": {},
   "outputs": [
    {
     "name": "stdout",
     "output_type": "stream",
     "text": [
      "本片共获金球奖等重要奖项3次，提名10次\n",
      "['美国金球奖 (2016；第73届) 提名：1', 'MTV电影奖 (2016；第25届) 提名：2', '土星奖 (2016；第42届) 获奖：1; 提名：2', '青少年选择奖 (2015；第17届) 获奖：2; 提名：5']\n"
     ]
    },
    {
     "data": {
      "text/plain": [
       "<dl> <dt>提名</dt> <dd> <i class=\"dot\">·</i><span>电影类-最佳原创歌曲</span> <a href=\"http://people.mtime.com/1937853/\" target=\"_blank\">维兹·卡利法 Wiz Khalifa</a> <a href=\"http://people.mtime.com/1919917/\" target=\"_blank\"> Justin Franks</a> <a href=\"http://people.mtime.com/2180024/\" target=\"_blank\"> Charlie Puth</a> <a href=\"http://people.mtime.com/2180025/\" target=\"_blank\"> Andrew Cedar</a> </dd> </dl>"
      ]
     },
     "execution_count": 7,
     "metadata": {},
     "output_type": "execute_result"
    }
   ],
   "source": [
    "## 奖项\n",
    "soup=bsp(detailpage.text,\"lxml\")\n",
    "award_name=soup.body.find_all(\"h3\")\n",
    "award_detail=soup.body.find_all(\"dl\")\n",
    "aw_names=[]\n",
    "if award_name:\n",
    "    for i in award_name:\n",
    "        if i.b:\n",
    "            aw_names.append(i.text.strip())\n",
    "        else:\n",
    "            award_summary=i.text.strip()\n",
    "for i in range(len(award_detail)):\n",
    "    if 'id' in award_detail[i].attrs:\n",
    "        if award_detail[i]['id']==\"awardSlidesItems\":\n",
    "            position=i+1\n",
    "            break\n",
    "details=award_detail[position:]\n",
    "assert len(details)==len(aw_names)\n",
    "print(award_summary)\n",
    "print(aw_names)\n",
    "details[0]"
   ]
  },
  {
   "cell_type": "code",
   "execution_count": 8,
   "metadata": {},
   "outputs": [
    {
     "data": {
      "text/plain": [
       "{'美国金球奖': ['(2016；第73届) 提名：1',\n",
       "  '提名  #最佳原创歌曲 维兹·卡利法 Wiz Khalifa  Justin Franks  Charlie Puth  Andrew Cedar'],\n",
       " 'MTV电影奖': ['(2016；第25届) 提名：2', '提名  #最佳群戏   #最佳动作演员 范·迪塞尔 Vin Diesel'],\n",
       " '土星奖': ['(2016；第42届) 获奖：1; 提名：2',\n",
       "  '获奖  #最佳动作/冒险电影  提名  #最佳剪辑  Leigh Folsom  Kirk M. Morri 克里斯蒂安·瓦格纳 Christian Wagner  Dylan Highsmith   #最佳DVD/蓝光特别版'],\n",
       " '青少年选择奖': ['(2015；第17届) 获奖：2; 提名：5',\n",
       "  '获奖  #最佳动作电影男演员 保罗·沃克 Paul Walker   #最佳动作电影  提名  #最佳动作电影男演员 范·迪塞尔 Vin Diesel   #最佳动作电影女演员 米歇尔·罗德里格兹 Michelle Rodriguez   #最佳动作电影女演员 乔丹娜·布鲁斯特 Jordana Brewster   #最佳电影火花 范·迪塞尔 Vin Diesel 乔丹娜·布鲁斯特 Jordana Brewster 道恩·强森 Dwayne Johnson 卢达·克里斯 Ludacris 米歇尔·罗德里格兹 Michelle Rodriguez 泰瑞斯·吉布森 Tyrese Gibson 保罗·沃克 Paul Walker   #最佳电影反派 杰森·斯坦森 Jason Statham']}"
      ]
     },
     "execution_count": 8,
     "metadata": {},
     "output_type": "execute_result"
    }
   ],
   "source": [
    "## for each award, get detail\n",
    "award_dict=dict()\n",
    "for i in range(len(aw_names)):\n",
    "    name=re.search(r'\\w+奖',aw_names[i]).group()\n",
    "    summary=re.search(r'奖 \\(.+',aw_names[i]).group().replace(r\"奖 \",\"\")\n",
    "    award_dict[name]=[summary,re.sub(r'·\\w+-','#',details[i].text.strip())]\n",
    "award_dict"
   ]
  },
  {
   "cell_type": "code",
   "execution_count": 9,
   "metadata": {},
   "outputs": [
    {
     "data": {
      "text/plain": [
       "200"
      ]
     },
     "execution_count": 9,
     "metadata": {},
     "output_type": "execute_result"
    }
   ],
   "source": [
    "## check companies\n",
    "detailpage=rq.get(\"http://movie.mtime.com/229733/details.html\",timeout=10)\n",
    "detailpage.status_code\n",
    "# 229733 \n",
    "# 262215\n",
    "# 242167\n",
    "# 196613\n"
   ]
  },
  {
   "cell_type": "code",
   "execution_count": 19,
   "metadata": {},
   "outputs": [],
   "source": [
    "soup=bsp(detailpage.text,\"lxml\")\n",
    "company_sec=soup.body.find_all(\"dl\",{\"id\":\"companyRegion\"})\n",
    "if company_sec:\n",
    "    company_detail=company_sec[0].find_all(\"div\",{\"class\":\"fl wp49\"})\n",
    "    assert len(company_detail)==2"
   ]
  },
  {
   "cell_type": "code",
   "execution_count": 18,
   "metadata": {},
   "outputs": [
    {
     "data": {
      "text/plain": [
       "[<div class=\"fl wp49\"> <h4>制作公司</h4> <ul> <li>1.  <a href=\"http://movie.mtime.com/company/120305/\" target=\"_blank\">北京登峰国际文化传播有限公司</a> <span>  </span></li> <li>2.  <a href=\"http://movie.mtime.com/company/139097/\" target=\"_blank\">嘲风影业（北京）有限公司</a> <span>[中国]  </span></li> <li>3.  <a href=\"http://movie.mtime.com/company/133995/\" target=\"_blank\">霍尔果斯春秋时代文化传媒有限公司</a> <span>[中国]  </span></li> <li>4.  <a href=\"http://movie.mtime.com/company/136770/\" target=\"_blank\">捷成世纪文化产业集团有限公司</a> <span>  </span></li> <li>5.  <a href=\"http://movie.mtime.com/company/134200/\" target=\"_blank\">霍尔果斯橙子映像传媒有限公司</a> <span>[中国]  </span></li> <li data-selector=\"hideMoreCompay\" style=\"display:none;\">6.  <a href=\"http://movie.mtime.com/company/133994/\" target=\"_blank\">霍尔果斯登峰国际文化传播有限公司</a> <span>[中国]  </span> </li> <li data-selector=\"hideMoreCompay\" style=\"display:none;\">7.  <a href=\"http://movie.mtime.com/company/102465/\" target=\"_blank\">中国电影股份有限公司</a> <span>[中国]联合出品  </span> </li> <li data-selector=\"hideMoreCompay\" style=\"display:none;\">8.  <a href=\"http://movie.mtime.com/company/130649/\" target=\"_blank\">鹿鸣影业有限公司</a> <span>[中国]联合出品  </span> </li> <li data-selector=\"hideMoreCompay\" style=\"display:none;\">9.  <a href=\"http://movie.mtime.com/company/22564/\" target=\"_blank\">博纳影业集团股份有限公司</a> <span>[中国]联合出品  </span> </li> <li data-selector=\"hideMoreCompay\" style=\"display:none;\">10.  <a href=\"http://movie.mtime.com/company/134775/\" target=\"_blank\">北京京西文化旅游股份有限公司</a> <span>联合出品  </span> </li> <li data-selector=\"hideMoreCompay\" style=\"display:none;\">11.  <a href=\"http://movie.mtime.com/company/101380/\" target=\"_blank\">万达影视传媒有限公司</a> <span>[中国]联合出品  </span> </li> <li data-selector=\"hideMoreCompay\" style=\"display:none;\">12.  <a href=\"http://movie.mtime.com/company/120886/\" target=\"_blank\">合一信息技术(北京)有限公司</a> <span>[中国]联合出品  </span> </li> <li data-selector=\"hideMoreCompay\" style=\"display:none;\">13.  <a href=\"http://movie.mtime.com/company/134198/\" target=\"_blank\">嘉会文化传媒有限公司</a> <span>[中国]联合出品  </span> </li> <li data-selector=\"hideMoreCompay\" style=\"display:none;\">14.  <a href=\"http://movie.mtime.com/company/126724/\" target=\"_blank\">星纪元影视文化传媒有限公司</a> <span>[中国]联合出品  </span> </li> </ul> </div>,\n",
       " <div class=\"fl wp49\"> <h4>发行公司</h4> <ul> <li>1.  <a href=\"http://movie.mtime.com/company/134775/\" target=\"_blank\">北京京西文化旅游股份有限公司</a> <span>  </span></li> <li>2.  <a href=\"http://movie.mtime.com/company/121075/\" target=\"_blank\">北京聚合影联文化传媒有限公司</a> <span>[中国]  </span></li> <li>3.  <a href=\"http://movie.mtime.com/company/128623/\" target=\"_blank\">北京启泰远洋文化传媒有限公司</a> <span>[中国]  </span></li> <li>4.  <a href=\"http://movie.mtime.com/company/121271/\" target=\"_blank\">五洲电影发行有限公司</a> <span>[中国]  </span></li> <li>5.  <a href=\"http://movie.mtime.com/company/127884/\" target=\"_blank\">影都文化投资发展有限公司</a> <span>[中国]  </span></li> <li data-selector=\"hideMoreCompay\" style=\"display:none;\">6.  <a href=\"http://movie.mtime.com/company/132233/\" target=\"_blank\">上海淘票票影视文化有限公司</a> <span>[中国]  </span> </li> <li data-selector=\"hideMoreCompay\" style=\"display:none;\">7.  <a href=\"http://movie.mtime.com/company/130715/\" target=\"_blank\">北京合瑞影业文化有限公司</a> <span>[中国]  </span> </li> </ul></div>]"
      ]
     },
     "execution_count": 18,
     "metadata": {},
     "output_type": "execute_result"
    }
   ],
   "source": [
    "company_sec[0].find_all(\"div\",{\"class\":\"fl wp49\"})"
   ]
  }
 ],
 "metadata": {
  "kernelspec": {
   "display_name": "Python 3",
   "language": "python",
   "name": "python3"
  },
  "language_info": {
   "codemirror_mode": {
    "name": "ipython",
    "version": 3
   },
   "file_extension": ".py",
   "mimetype": "text/x-python",
   "name": "python",
   "nbconvert_exporter": "python",
   "pygments_lexer": "ipython3",
   "version": "3.7.0"
  }
 },
 "nbformat": 4,
 "nbformat_minor": 2
}
