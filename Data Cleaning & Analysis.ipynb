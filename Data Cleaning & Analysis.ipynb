{
 "cells": [
  {
   "cell_type": "code",
   "execution_count": 253,
   "metadata": {},
   "outputs": [],
   "source": [
    "### import module\n",
    "import pandas as pd\n",
    "import requests as rq\n",
    "import numpy as np\n",
    "from bs4 import BeautifulSoup as bsp\n",
    "import time\n",
    "import re\n",
    "import ast\n",
    "import math"
   ]
  },
  {
   "cell_type": "code",
   "execution_count": 254,
   "metadata": {},
   "outputs": [
    {
     "data": {
      "text/html": [
       "<div>\n",
       "<style scoped>\n",
       "    .dataframe tbody tr th:only-of-type {\n",
       "        vertical-align: middle;\n",
       "    }\n",
       "\n",
       "    .dataframe tbody tr th {\n",
       "        vertical-align: top;\n",
       "    }\n",
       "\n",
       "    .dataframe thead th {\n",
       "        text-align: right;\n",
       "    }\n",
       "</style>\n",
       "<table border=\"1\" class=\"dataframe\">\n",
       "  <thead>\n",
       "    <tr style=\"text-align: right;\">\n",
       "      <th></th>\n",
       "      <th>Name</th>\n",
       "      <th>NameEng</th>\n",
       "      <th>MtimePage</th>\n",
       "      <th>ReleaseDate</th>\n",
       "      <th>BoxOffice</th>\n",
       "      <th>BoxOfficeDetail</th>\n",
       "      <th>BoxOfficeRankCN</th>\n",
       "      <th>BoxOfficeRankNA</th>\n",
       "      <th>BoxOfficeRankG</th>\n",
       "      <th>MtimeRating</th>\n",
       "      <th>NumberofReviewers</th>\n",
       "      <th>BoxOfficeGlobal</th>\n",
       "      <th>Runtime</th>\n",
       "      <th>Genre</th>\n",
       "      <th>FilmFormat</th>\n",
       "      <th>ActorAndStaff</th>\n",
       "      <th>AwardSummary</th>\n",
       "      <th>AwardDetail</th>\n",
       "      <th>ProductionCompany</th>\n",
       "      <th>DistributorCompany</th>\n",
       "    </tr>\n",
       "  </thead>\n",
       "  <tbody>\n",
       "    <tr>\n",
       "      <th>0</th>\n",
       "      <td>战狼2</td>\n",
       "      <td>Wolf Warriors Ⅱ</td>\n",
       "      <td>http://movie.mtime.com/229733</td>\n",
       "      <td>2017年07月27日</td>\n",
       "      <td>56.82亿CNY</td>\n",
       "      <td>首日1.02亿|首周9.97亿|连冠4周</td>\n",
       "      <td>1.0</td>\n",
       "      <td>NaN</td>\n",
       "      <td>61.0</td>\n",
       "      <td>7.4</td>\n",
       "      <td>17009</td>\n",
       "      <td>8.70亿USD</td>\n",
       "      <td>123分钟</td>\n",
       "      <td>动作/战争</td>\n",
       "      <td>2D/3D/IMAX/中国巨幕</td>\n",
       "      <td>{'演员 Actor': ['吴京 Jing Wu', '弗兰克·格里罗 Frank Gri...</td>\n",
       "      <td>['本片共获香港金像奖等重要奖项1次，提名6次', ['香港电影金像奖 (2018；第37届...</td>\n",
       "      <td>{'香港电影金像奖': ['(2018；第37届) 提名：1', '提名  #最佳两岸华语电...</td>\n",
       "      <td>制作公司  1.  北京登峰国际文化传播有限公司    2.  嘲风影业（北京）有限公司 ...</td>\n",
       "      <td>发行公司  1.  北京京西文化旅游股份有限公司    2.  北京聚合影联文化传媒有限公...</td>\n",
       "    </tr>\n",
       "    <tr>\n",
       "      <th>1</th>\n",
       "      <td>流浪地球</td>\n",
       "      <td>The Wandering Earth</td>\n",
       "      <td>http://movie.mtime.com/218707</td>\n",
       "      <td>2019年02月05日</td>\n",
       "      <td>46.13亿CNY</td>\n",
       "      <td>首日1.88亿|首周19.98亿|连冠2周</td>\n",
       "      <td>2.0</td>\n",
       "      <td>NaN</td>\n",
       "      <td>NaN</td>\n",
       "      <td>7.9</td>\n",
       "      <td>12081</td>\n",
       "      <td>NaN</td>\n",
       "      <td>125分钟</td>\n",
       "      <td>冒险/科幻/剧情</td>\n",
       "      <td>2D/3D/IMAX3D/中国巨幕</td>\n",
       "      <td>{'演员 Actor': ['吴京 Jing Wu', '屈楚萧 Chu Xiao Qu',...</td>\n",
       "      <td>NaN</td>\n",
       "      <td>NaN</td>\n",
       "      <td>制作公司  1.  中国电影股份有限公司北京电影制片分公司    2.  霍尔果斯登峰国际...</td>\n",
       "      <td>发行公司  1.  中国电影股份有限公司 [中国]   2.  北京京西文化旅游股份有限公...</td>\n",
       "    </tr>\n",
       "    <tr>\n",
       "      <th>2</th>\n",
       "      <td>红海行动</td>\n",
       "      <td>Operation Red Sea</td>\n",
       "      <td>http://movie.mtime.com/240425</td>\n",
       "      <td>2018年02月16日</td>\n",
       "      <td>36.51亿CNY</td>\n",
       "      <td>首日1.29亿|首周4.65亿</td>\n",
       "      <td>3.0</td>\n",
       "      <td>NaN</td>\n",
       "      <td>NaN</td>\n",
       "      <td>8.1</td>\n",
       "      <td>10175</td>\n",
       "      <td>NaN</td>\n",
       "      <td>138分钟</td>\n",
       "      <td>动作/剧情</td>\n",
       "      <td>2D/3D/IMAX3D/中国巨幕</td>\n",
       "      <td>{'演员 Actor': ['张译 Yi Zhang', '黄景瑜 Johnny Huang...</td>\n",
       "      <td>['本片共获香港金像奖等重要奖项6次，提名14次', ['香港电影金像奖 (2019；第38...</td>\n",
       "      <td>{'香港电影金像奖': ['(2019；第38届) 提名：8', '提名  #最佳影片   ...</td>\n",
       "      <td>制作公司  1.  北京博纳影业集团有限公司 [中国]   2.  博纳影业集团股份有限公...</td>\n",
       "      <td>发行公司  1.  博纳影业集团股份有限公司 [中国]   2.  华夏电影发行有限责任公...</td>\n",
       "    </tr>\n",
       "    <tr>\n",
       "      <th>3</th>\n",
       "      <td>唐人街探案2</td>\n",
       "      <td>Detective Chinatown 2</td>\n",
       "      <td>http://movie.mtime.com/234873</td>\n",
       "      <td>2018年02月16日</td>\n",
       "      <td>33.98亿CNY</td>\n",
       "      <td>首日3.41亿|首周9.90亿</td>\n",
       "      <td>4.0</td>\n",
       "      <td>NaN</td>\n",
       "      <td>NaN</td>\n",
       "      <td>7.0</td>\n",
       "      <td>5827</td>\n",
       "      <td>NaN</td>\n",
       "      <td>120分钟</td>\n",
       "      <td>喜剧/动作/悬疑</td>\n",
       "      <td>2D/IMAX/中国巨幕</td>\n",
       "      <td>{'演员 Actor': ['王宝强 Baoqiang Wang', '刘昊然 Haoran...</td>\n",
       "      <td>['本片共获提名5次', ['大众电影百花奖 (2018；第34届) 提名：5']]</td>\n",
       "      <td>{'大众电影百花奖': ['(2018；第34届) 提名：5', '提名  #最佳故事片  ...</td>\n",
       "      <td>制作公司  1.  万达影视传媒有限公司 [中国]   2.  霍尔果斯骋亚影视文化传媒有...</td>\n",
       "      <td>发行公司  1.  五洲电影发行有限公司 [中国]   2.  联瑞(上海)影业有限公司 ...</td>\n",
       "    </tr>\n",
       "    <tr>\n",
       "      <th>4</th>\n",
       "      <td>美人鱼</td>\n",
       "      <td>The Mermaid</td>\n",
       "      <td>http://movie.mtime.com/209007</td>\n",
       "      <td>2016年02月08日</td>\n",
       "      <td>33.92亿CNY</td>\n",
       "      <td>首日2.72亿|首周18.18亿|连冠2周</td>\n",
       "      <td>5.0</td>\n",
       "      <td>NaN</td>\n",
       "      <td>NaN</td>\n",
       "      <td>7.4</td>\n",
       "      <td>18216</td>\n",
       "      <td>NaN</td>\n",
       "      <td>93分钟</td>\n",
       "      <td>喜剧/奇幻/爱情</td>\n",
       "      <td>3D/中国巨幕</td>\n",
       "      <td>{'演员 Actor': ['邓超 Chao Deng', '罗志祥 Show Lo', '...</td>\n",
       "      <td>['本片共获香港金像奖等重要奖项0次，提名8次', ['香港电影金像奖 (2017；第36届...</td>\n",
       "      <td>{'香港电影金像奖': ['(2017；第36届) 提名：8', '提名  #最佳影片   ...</td>\n",
       "      <td>制作公司  1.  中国电影股份有限公司 [中国]   2.  星辉海外有限公司 [中国香...</td>\n",
       "      <td>发行公司  1.  中国电影股份有限公司北京电影发行分公司 [中国]   2.  和和(上...</td>\n",
       "    </tr>\n",
       "  </tbody>\n",
       "</table>\n",
       "</div>"
      ],
      "text/plain": [
       "     Name                NameEng                      MtimePage  ReleaseDate  \\\n",
       "0     战狼2        Wolf Warriors Ⅱ  http://movie.mtime.com/229733  2017年07月27日   \n",
       "1    流浪地球    The Wandering Earth  http://movie.mtime.com/218707  2019年02月05日   \n",
       "2    红海行动      Operation Red Sea  http://movie.mtime.com/240425  2018年02月16日   \n",
       "3  唐人街探案2  Detective Chinatown 2  http://movie.mtime.com/234873  2018年02月16日   \n",
       "4     美人鱼            The Mermaid  http://movie.mtime.com/209007  2016年02月08日   \n",
       "\n",
       "   BoxOffice        BoxOfficeDetail  BoxOfficeRankCN  BoxOfficeRankNA  \\\n",
       "0  56.82亿CNY   首日1.02亿|首周9.97亿|连冠4周              1.0              NaN   \n",
       "1  46.13亿CNY  首日1.88亿|首周19.98亿|连冠2周              2.0              NaN   \n",
       "2  36.51亿CNY        首日1.29亿|首周4.65亿              3.0              NaN   \n",
       "3  33.98亿CNY        首日3.41亿|首周9.90亿              4.0              NaN   \n",
       "4  33.92亿CNY  首日2.72亿|首周18.18亿|连冠2周              5.0              NaN   \n",
       "\n",
       "   BoxOfficeRankG  MtimeRating  NumberofReviewers BoxOfficeGlobal Runtime  \\\n",
       "0            61.0          7.4              17009        8.70亿USD   123分钟   \n",
       "1             NaN          7.9              12081             NaN   125分钟   \n",
       "2             NaN          8.1              10175             NaN   138分钟   \n",
       "3             NaN          7.0               5827             NaN   120分钟   \n",
       "4             NaN          7.4              18216             NaN    93分钟   \n",
       "\n",
       "      Genre         FilmFormat  \\\n",
       "0     动作/战争    2D/3D/IMAX/中国巨幕   \n",
       "1  冒险/科幻/剧情  2D/3D/IMAX3D/中国巨幕   \n",
       "2     动作/剧情  2D/3D/IMAX3D/中国巨幕   \n",
       "3  喜剧/动作/悬疑       2D/IMAX/中国巨幕   \n",
       "4  喜剧/奇幻/爱情            3D/中国巨幕   \n",
       "\n",
       "                                       ActorAndStaff  \\\n",
       "0  {'演员 Actor': ['吴京 Jing Wu', '弗兰克·格里罗 Frank Gri...   \n",
       "1  {'演员 Actor': ['吴京 Jing Wu', '屈楚萧 Chu Xiao Qu',...   \n",
       "2  {'演员 Actor': ['张译 Yi Zhang', '黄景瑜 Johnny Huang...   \n",
       "3  {'演员 Actor': ['王宝强 Baoqiang Wang', '刘昊然 Haoran...   \n",
       "4  {'演员 Actor': ['邓超 Chao Deng', '罗志祥 Show Lo', '...   \n",
       "\n",
       "                                        AwardSummary  \\\n",
       "0  ['本片共获香港金像奖等重要奖项1次，提名6次', ['香港电影金像奖 (2018；第37届...   \n",
       "1                                                NaN   \n",
       "2  ['本片共获香港金像奖等重要奖项6次，提名14次', ['香港电影金像奖 (2019；第38...   \n",
       "3         ['本片共获提名5次', ['大众电影百花奖 (2018；第34届) 提名：5']]   \n",
       "4  ['本片共获香港金像奖等重要奖项0次，提名8次', ['香港电影金像奖 (2017；第36届...   \n",
       "\n",
       "                                         AwardDetail  \\\n",
       "0  {'香港电影金像奖': ['(2018；第37届) 提名：1', '提名  #最佳两岸华语电...   \n",
       "1                                                NaN   \n",
       "2  {'香港电影金像奖': ['(2019；第38届) 提名：8', '提名  #最佳影片   ...   \n",
       "3  {'大众电影百花奖': ['(2018；第34届) 提名：5', '提名  #最佳故事片  ...   \n",
       "4  {'香港电影金像奖': ['(2017；第36届) 提名：8', '提名  #最佳影片   ...   \n",
       "\n",
       "                                   ProductionCompany  \\\n",
       "0   制作公司  1.  北京登峰国际文化传播有限公司    2.  嘲风影业（北京）有限公司 ...   \n",
       "1   制作公司  1.  中国电影股份有限公司北京电影制片分公司    2.  霍尔果斯登峰国际...   \n",
       "2   制作公司  1.  北京博纳影业集团有限公司 [中国]   2.  博纳影业集团股份有限公...   \n",
       "3   制作公司  1.  万达影视传媒有限公司 [中国]   2.  霍尔果斯骋亚影视文化传媒有...   \n",
       "4   制作公司  1.  中国电影股份有限公司 [中国]   2.  星辉海外有限公司 [中国香...   \n",
       "\n",
       "                                  DistributorCompany  \n",
       "0   发行公司  1.  北京京西文化旅游股份有限公司    2.  北京聚合影联文化传媒有限公...  \n",
       "1   发行公司  1.  中国电影股份有限公司 [中国]   2.  北京京西文化旅游股份有限公...  \n",
       "2   发行公司  1.  博纳影业集团股份有限公司 [中国]   2.  华夏电影发行有限责任公...  \n",
       "3   发行公司  1.  五洲电影发行有限公司 [中国]   2.  联瑞(上海)影业有限公司 ...  \n",
       "4   发行公司  1.  中国电影股份有限公司北京电影发行分公司 [中国]   2.  和和(上...  "
      ]
     },
     "execution_count": 254,
     "metadata": {},
     "output_type": "execute_result"
    }
   ],
   "source": [
    "### read the data\n",
    "dt=pd.read_csv(\"raw_final_data.csv\")\n",
    "dt=dt.drop(dt.columns[0], axis=1)\n",
    "dt.head()"
   ]
  },
  {
   "cell_type": "markdown",
   "metadata": {},
   "source": [
    "# Data Cleaning Part"
   ]
  },
  {
   "cell_type": "code",
   "execution_count": 255,
   "metadata": {},
   "outputs": [
    {
     "data": {
      "text/plain": [
       "Name                   object\n",
       "NameEng                object\n",
       "MtimePage              object\n",
       "ReleaseDate            object\n",
       "BoxOffice              object\n",
       "BoxOfficeDetail        object\n",
       "BoxOfficeRankCN       float64\n",
       "BoxOfficeRankNA       float64\n",
       "BoxOfficeRankG        float64\n",
       "MtimeRating           float64\n",
       "NumberofReviewers       int64\n",
       "BoxOfficeGlobal        object\n",
       "Runtime                object\n",
       "Genre                  object\n",
       "FilmFormat             object\n",
       "ActorAndStaff          object\n",
       "AwardSummary           object\n",
       "AwardDetail            object\n",
       "ProductionCompany      object\n",
       "DistributorCompany     object\n",
       "dtype: object"
      ]
     },
     "execution_count": 255,
     "metadata": {},
     "output_type": "execute_result"
    }
   ],
   "source": [
    "## check data types and convert to correct data types\n",
    "dt.dtypes"
   ]
  },
  {
   "cell_type": "code",
   "execution_count": 256,
   "metadata": {},
   "outputs": [],
   "source": [
    "## date to date \n",
    "dt.ReleaseDate=dt.ReleaseDate.apply(lambda x: re.sub(r\"日\\w*\",\"\",x))\n",
    "dt.ReleaseDate=dt.ReleaseDate.apply(lambda x: re.sub(r\"年|月\",\"-\",x))\n",
    "dt.ReleaseDate=pd.to_datetime(dt.ReleaseDate)"
   ]
  },
  {
   "cell_type": "code",
   "execution_count": 257,
   "metadata": {},
   "outputs": [],
   "source": [
    "## Boxoffice/BoxofficeGlobal to float, and currency conversion, unit unified to million USD\n",
    "BoxOffice=[]\n",
    "BoxOfficeCN=[]\n",
    "BoxOfficeNA=[]\n",
    "money_local=dt.BoxOffice.apply(lambda x: float(re.sub(r\"(亿USD)|(亿CNY)\",\"\",x)))\n",
    "for i in range(len(dt.BoxOffice)):\n",
    "    if \"USD\" in dt.BoxOffice[i]:\n",
    "        BoxOffice.append(round(money_local[i]*100,6))\n",
    "    else:\n",
    "        BoxOffice.append(round(0.15*money_local[i]*100,6))\n",
    "BoxOfficeGlobal=[]\n",
    "for i in range(len(dt.BoxOffice)):\n",
    "    x=dt.BoxOfficeGlobal[i]\n",
    "    try:\n",
    "        math.isnan(x)\n",
    "        BoxOfficeGlobal.append(np.NaN)\n",
    "    except:\n",
    "        BoxOfficeGlobal.append(re.sub(r\"亿USD\",\"\",x))\n",
    "BoxOfficeGlobal=[round(float(i)*100,6) for i in BoxOfficeGlobal]\n",
    "dt.BoxOffice=BoxOffice\n",
    "dt.BoxOfficeGlobal=BoxOfficeGlobal"
   ]
  },
  {
   "cell_type": "code",
   "execution_count": 258,
   "metadata": {},
   "outputs": [],
   "source": [
    "## use ast to convert str representation of lists/dictionary back to their format\n",
    "AwardSummary=[]\n",
    "for i in dt.AwardSummary:\n",
    "    try:\n",
    "        math.isnan(i)\n",
    "        AwardSummary.append(np.NaN)\n",
    "    except:\n",
    "        AwardSummary.append(ast.literal_eval(i))\n",
    "ActorAndStaff=[]\n",
    "for i in dt.ActorAndStaff:\n",
    "    try:\n",
    "        math.isnan(i)\n",
    "        ActorAndStaff.append(np.NaN)\n",
    "    except:\n",
    "        ActorAndStaff.append(ast.literal_eval(i))\n",
    "AwardDetail=[]\n",
    "for i in dt.AwardDetail:\n",
    "    try:\n",
    "        math.isnan(i)\n",
    "        AwardDetail.append(np.NaN)\n",
    "    except:\n",
    "        AwardDetail.append(ast.literal_eval(i))\n",
    "dt.ActorAndStaff=ActorAndStaff\n",
    "dt.AwardDetail=AwardDetail\n",
    "dt.AwardSummary=AwardSummary"
   ]
  },
  {
   "cell_type": "code",
   "execution_count": 259,
   "metadata": {},
   "outputs": [],
   "source": [
    "## manual clean: Meet the Fockers2, runtime 1h55m\n",
    "dt.iloc[295,13]=dt.iloc[295,12]\n",
    "dt.iloc[295,12]=\"115\""
   ]
  },
  {
   "cell_type": "code",
   "execution_count": 260,
   "metadata": {},
   "outputs": [],
   "source": [
    "## Runtime to int\n",
    "dt.Runtime=dt.Runtime.apply(lambda x: re.sub(r\"分钟\",\"\",x))\n",
    "dt=dt.astype({\"Runtime\":int})"
   ]
  },
  {
   "cell_type": "code",
   "execution_count": 261,
   "metadata": {},
   "outputs": [],
   "source": [
    "dt.BoxOfficeRankCN=dt.BoxOfficeRankCN.fillna(0)\n",
    "dt.BoxOfficeRankNA=dt.BoxOfficeRankNA.fillna(0)\n",
    "dt.BoxOfficeRankG=dt.BoxOfficeRankG.fillna(0)\n",
    "dt=dt.astype({\"BoxOfficeRankCN\":int,\"BoxOfficeRankNA\":int,\"BoxOfficeRankG\":int})"
   ]
  },
  {
   "cell_type": "code",
   "execution_count": 262,
   "metadata": {},
   "outputs": [],
   "source": [
    "# fill in null in BoxOfficeGlobal with values in BoxOffice\n",
    "dt.BoxOfficeGlobal=dt.BoxOfficeGlobal.fillna(value=dt.BoxOffice)"
   ]
  },
  {
   "cell_type": "code",
   "execution_count": 263,
   "metadata": {},
   "outputs": [],
   "source": [
    "# remove extra text in companies\n",
    "dt.ProductionCompany=dt.ProductionCompany.apply(lambda x: re.sub(r\"制作公司 \",\"\",x))"
   ]
  },
  {
   "cell_type": "code",
   "execution_count": 264,
   "metadata": {},
   "outputs": [],
   "source": [
    "DistributorCompany=[]\n",
    "for i in range(len(dt.DistributorCompany)):\n",
    "    x=dt.DistributorCompany[i]\n",
    "    try:\n",
    "        math.isnan(x)\n",
    "        DistributorCompany.append(np.NaN)\n",
    "    except:\n",
    "        DistributorCompany.append(re.sub(r\"发行公司 \",\"\",x))\n",
    "dt.DistributorCompany=DistributorCompany"
   ]
  },
  {
   "cell_type": "code",
   "execution_count": 265,
   "metadata": {},
   "outputs": [],
   "source": [
    "## create year & month column\n",
    "dt[\"Year\"]=dt.ReleaseDate.apply(lambda x: x.year)\n",
    "dt[\"Month\"]=dt.ReleaseDate.apply(lambda x: x.month)"
   ]
  },
  {
   "cell_type": "code",
   "execution_count": 266,
   "metadata": {},
   "outputs": [],
   "source": [
    "## seperate genres\n",
    "unique_genere=set(dt.Genre.str.split(r\"/\").sum())\n",
    "for g in unique_genere:\n",
    "    dt[g]=dt.Genre.str.contains(g,regex=False)"
   ]
  },
  {
   "cell_type": "code",
   "execution_count": 267,
   "metadata": {},
   "outputs": [
    {
     "data": {
      "text/plain": [
       "Name                          object\n",
       "NameEng                       object\n",
       "MtimePage                     object\n",
       "ReleaseDate           datetime64[ns]\n",
       "BoxOffice                    float64\n",
       "BoxOfficeDetail               object\n",
       "BoxOfficeRankCN                int64\n",
       "BoxOfficeRankNA                int64\n",
       "BoxOfficeRankG                 int64\n",
       "MtimeRating                  float64\n",
       "NumberofReviewers              int64\n",
       "BoxOfficeGlobal              float64\n",
       "Runtime                        int64\n",
       "Genre                         object\n",
       "FilmFormat                    object\n",
       "ActorAndStaff                 object\n",
       "AwardSummary                  object\n",
       "AwardDetail                   object\n",
       "ProductionCompany             object\n",
       "DistributorCompany            object\n",
       "Year                           int64\n",
       "Month                          int64\n",
       "悬疑                              bool\n",
       "奇幻                              bool\n",
       "冒险                              bool\n",
       "家庭                              bool\n",
       "音乐                              bool\n",
       "惊悚                              bool\n",
       "喜剧                              bool\n",
       "传记                              bool\n",
       "恐怖                              bool\n",
       "爱情                              bool\n",
       "犯罪                              bool\n",
       "歌舞                              bool\n",
       "科幻                              bool\n",
       "战争                              bool\n",
       "动作                              bool\n",
       "剧情                              bool\n",
       "动画                              bool\n",
       "dtype: object"
      ]
     },
     "execution_count": 267,
     "metadata": {},
     "output_type": "execute_result"
    }
   ],
   "source": [
    "dt.dtypes"
   ]
  },
  {
   "cell_type": "code",
   "execution_count": 268,
   "metadata": {},
   "outputs": [
    {
     "data": {
      "text/html": [
       "<div>\n",
       "<style scoped>\n",
       "    .dataframe tbody tr th:only-of-type {\n",
       "        vertical-align: middle;\n",
       "    }\n",
       "\n",
       "    .dataframe tbody tr th {\n",
       "        vertical-align: top;\n",
       "    }\n",
       "\n",
       "    .dataframe thead th {\n",
       "        text-align: right;\n",
       "    }\n",
       "</style>\n",
       "<table border=\"1\" class=\"dataframe\">\n",
       "  <thead>\n",
       "    <tr style=\"text-align: right;\">\n",
       "      <th></th>\n",
       "      <th>Name</th>\n",
       "      <th>NameEng</th>\n",
       "      <th>MtimePage</th>\n",
       "      <th>ReleaseDate</th>\n",
       "      <th>BoxOffice</th>\n",
       "      <th>BoxOfficeDetail</th>\n",
       "      <th>BoxOfficeRankCN</th>\n",
       "      <th>BoxOfficeRankNA</th>\n",
       "      <th>BoxOfficeRankG</th>\n",
       "      <th>MtimeRating</th>\n",
       "      <th>...</th>\n",
       "      <th>传记</th>\n",
       "      <th>恐怖</th>\n",
       "      <th>爱情</th>\n",
       "      <th>犯罪</th>\n",
       "      <th>歌舞</th>\n",
       "      <th>科幻</th>\n",
       "      <th>战争</th>\n",
       "      <th>动作</th>\n",
       "      <th>剧情</th>\n",
       "      <th>动画</th>\n",
       "    </tr>\n",
       "  </thead>\n",
       "  <tbody>\n",
       "    <tr>\n",
       "      <th>0</th>\n",
       "      <td>战狼2</td>\n",
       "      <td>Wolf Warriors Ⅱ</td>\n",
       "      <td>http://movie.mtime.com/229733</td>\n",
       "      <td>2017-07-27</td>\n",
       "      <td>852.30</td>\n",
       "      <td>首日1.02亿|首周9.97亿|连冠4周</td>\n",
       "      <td>1</td>\n",
       "      <td>0</td>\n",
       "      <td>61</td>\n",
       "      <td>7.4</td>\n",
       "      <td>...</td>\n",
       "      <td>False</td>\n",
       "      <td>False</td>\n",
       "      <td>False</td>\n",
       "      <td>False</td>\n",
       "      <td>False</td>\n",
       "      <td>False</td>\n",
       "      <td>True</td>\n",
       "      <td>True</td>\n",
       "      <td>False</td>\n",
       "      <td>False</td>\n",
       "    </tr>\n",
       "    <tr>\n",
       "      <th>1</th>\n",
       "      <td>流浪地球</td>\n",
       "      <td>The Wandering Earth</td>\n",
       "      <td>http://movie.mtime.com/218707</td>\n",
       "      <td>2019-02-05</td>\n",
       "      <td>691.95</td>\n",
       "      <td>首日1.88亿|首周19.98亿|连冠2周</td>\n",
       "      <td>2</td>\n",
       "      <td>0</td>\n",
       "      <td>0</td>\n",
       "      <td>7.9</td>\n",
       "      <td>...</td>\n",
       "      <td>False</td>\n",
       "      <td>False</td>\n",
       "      <td>False</td>\n",
       "      <td>False</td>\n",
       "      <td>False</td>\n",
       "      <td>True</td>\n",
       "      <td>False</td>\n",
       "      <td>False</td>\n",
       "      <td>True</td>\n",
       "      <td>False</td>\n",
       "    </tr>\n",
       "    <tr>\n",
       "      <th>2</th>\n",
       "      <td>红海行动</td>\n",
       "      <td>Operation Red Sea</td>\n",
       "      <td>http://movie.mtime.com/240425</td>\n",
       "      <td>2018-02-16</td>\n",
       "      <td>547.65</td>\n",
       "      <td>首日1.29亿|首周4.65亿</td>\n",
       "      <td>3</td>\n",
       "      <td>0</td>\n",
       "      <td>0</td>\n",
       "      <td>8.1</td>\n",
       "      <td>...</td>\n",
       "      <td>False</td>\n",
       "      <td>False</td>\n",
       "      <td>False</td>\n",
       "      <td>False</td>\n",
       "      <td>False</td>\n",
       "      <td>False</td>\n",
       "      <td>False</td>\n",
       "      <td>True</td>\n",
       "      <td>True</td>\n",
       "      <td>False</td>\n",
       "    </tr>\n",
       "    <tr>\n",
       "      <th>3</th>\n",
       "      <td>唐人街探案2</td>\n",
       "      <td>Detective Chinatown 2</td>\n",
       "      <td>http://movie.mtime.com/234873</td>\n",
       "      <td>2018-02-16</td>\n",
       "      <td>509.70</td>\n",
       "      <td>首日3.41亿|首周9.90亿</td>\n",
       "      <td>4</td>\n",
       "      <td>0</td>\n",
       "      <td>0</td>\n",
       "      <td>7.0</td>\n",
       "      <td>...</td>\n",
       "      <td>False</td>\n",
       "      <td>False</td>\n",
       "      <td>False</td>\n",
       "      <td>False</td>\n",
       "      <td>False</td>\n",
       "      <td>False</td>\n",
       "      <td>False</td>\n",
       "      <td>True</td>\n",
       "      <td>False</td>\n",
       "      <td>False</td>\n",
       "    </tr>\n",
       "    <tr>\n",
       "      <th>4</th>\n",
       "      <td>美人鱼</td>\n",
       "      <td>The Mermaid</td>\n",
       "      <td>http://movie.mtime.com/209007</td>\n",
       "      <td>2016-02-08</td>\n",
       "      <td>508.80</td>\n",
       "      <td>首日2.72亿|首周18.18亿|连冠2周</td>\n",
       "      <td>5</td>\n",
       "      <td>0</td>\n",
       "      <td>0</td>\n",
       "      <td>7.4</td>\n",
       "      <td>...</td>\n",
       "      <td>False</td>\n",
       "      <td>False</td>\n",
       "      <td>True</td>\n",
       "      <td>False</td>\n",
       "      <td>False</td>\n",
       "      <td>False</td>\n",
       "      <td>False</td>\n",
       "      <td>False</td>\n",
       "      <td>False</td>\n",
       "      <td>False</td>\n",
       "    </tr>\n",
       "  </tbody>\n",
       "</table>\n",
       "<p>5 rows × 39 columns</p>\n",
       "</div>"
      ],
      "text/plain": [
       "     Name                NameEng                      MtimePage ReleaseDate  \\\n",
       "0     战狼2        Wolf Warriors Ⅱ  http://movie.mtime.com/229733  2017-07-27   \n",
       "1    流浪地球    The Wandering Earth  http://movie.mtime.com/218707  2019-02-05   \n",
       "2    红海行动      Operation Red Sea  http://movie.mtime.com/240425  2018-02-16   \n",
       "3  唐人街探案2  Detective Chinatown 2  http://movie.mtime.com/234873  2018-02-16   \n",
       "4     美人鱼            The Mermaid  http://movie.mtime.com/209007  2016-02-08   \n",
       "\n",
       "   BoxOffice        BoxOfficeDetail  BoxOfficeRankCN  BoxOfficeRankNA  \\\n",
       "0     852.30   首日1.02亿|首周9.97亿|连冠4周                1                0   \n",
       "1     691.95  首日1.88亿|首周19.98亿|连冠2周                2                0   \n",
       "2     547.65        首日1.29亿|首周4.65亿                3                0   \n",
       "3     509.70        首日3.41亿|首周9.90亿                4                0   \n",
       "4     508.80  首日2.72亿|首周18.18亿|连冠2周                5                0   \n",
       "\n",
       "   BoxOfficeRankG  MtimeRating  ...     传记     恐怖     爱情     犯罪     歌舞     科幻  \\\n",
       "0              61          7.4  ...  False  False  False  False  False  False   \n",
       "1               0          7.9  ...  False  False  False  False  False   True   \n",
       "2               0          8.1  ...  False  False  False  False  False  False   \n",
       "3               0          7.0  ...  False  False  False  False  False  False   \n",
       "4               0          7.4  ...  False  False   True  False  False  False   \n",
       "\n",
       "      战争     动作     剧情     动画  \n",
       "0   True   True  False  False  \n",
       "1  False  False   True  False  \n",
       "2  False   True   True  False  \n",
       "3  False   True  False  False  \n",
       "4  False  False  False  False  \n",
       "\n",
       "[5 rows x 39 columns]"
      ]
     },
     "execution_count": 268,
     "metadata": {},
     "output_type": "execute_result"
    }
   ],
   "source": [
    "dt.head()"
   ]
  },
  {
   "cell_type": "markdown",
   "metadata": {},
   "source": [
    "# Analysis Part"
   ]
  },
  {
   "cell_type": "code",
   "execution_count": 293,
   "metadata": {},
   "outputs": [],
   "source": [
    "dt_global=dt.iloc[100:200]\n",
    "dt_cn=dt.iloc[0:100]\n",
    "dt_na=dt.iloc[200:300]"
   ]
  },
  {
   "cell_type": "code",
   "execution_count": 309,
   "metadata": {},
   "outputs": [
    {
     "name": "stderr",
     "output_type": "stream",
     "text": [
      "/Library/Frameworks/Python.framework/Versions/3.7/lib/python3.7/site-packages/ipykernel_launcher.py:1: UserWarning: Boolean Series key will be reindexed to match DataFrame index.\n",
      "  \"\"\"Entry point for launching an IPython kernel.\n"
     ]
    }
   ],
   "source": [
    "dt_global[dt_global.BoxOfficeRankCN==0][dt_global.BoxOfficeRankNA==0].to_csv(\"quickfact.csv\")"
   ]
  },
  {
   "cell_type": "code",
   "execution_count": 310,
   "metadata": {},
   "outputs": [],
   "source": [
    "## figuring out chinese output in matplot\n",
    "import matplotlib\n",
    "# matplotlib.matplotlib_fname()\n",
    "import matplotlib.pyplot as plt\n",
    "from matplotlib.font_manager import _rebuild\n",
    "_rebuild()\n",
    "import matplotlib.pyplot as plt\n",
    "mpl.rcParams['font.sans-serif'] = ['SimHei']\n",
    "mpl.rcParams['font.serif'] = ['SimHei']\n",
    "import seaborn as sns\n",
    "sns.set_style(\"darkgrid\",{\"font.sans-serif\":['simhei', 'Arial']})"
   ]
  },
  {
   "cell_type": "code",
   "execution_count": 51,
   "metadata": {},
   "outputs": [
    {
     "data": {
      "text/plain": [
       "count    201.000000\n",
       "mean       7.511443\n",
       "std        0.763491\n",
       "min        4.700000\n",
       "25%        7.100000\n",
       "50%        7.600000\n",
       "75%        8.000000\n",
       "max        9.100000\n",
       "Name: MtimeRating, dtype: float64"
      ]
     },
     "execution_count": 51,
     "metadata": {},
     "output_type": "execute_result"
    }
   ],
   "source": [
    "dt.MtimeRating.describe()"
   ]
  },
  {
   "cell_type": "code",
   "execution_count": 52,
   "metadata": {},
   "outputs": [
    {
     "data": {
      "text/plain": [
       "count     201.000000\n",
       "mean      490.725124\n",
       "std       367.576914\n",
       "min       106.350000\n",
       "25%       171.750000\n",
       "50%       309.000000\n",
       "75%       822.000000\n",
       "max      1519.000000\n",
       "Name: BoxOffice, dtype: float64"
      ]
     },
     "execution_count": 52,
     "metadata": {},
     "output_type": "execute_result"
    }
   ],
   "source": [
    "dt.BoxOffice.describe() # USD million"
   ]
  },
  {
   "cell_type": "code",
   "execution_count": 53,
   "metadata": {},
   "outputs": [
    {
     "data": {
      "text/plain": [
       "count     201.000000\n",
       "mean      615.691045\n",
       "std       462.295263\n",
       "min       106.350000\n",
       "25%       194.550000\n",
       "50%       691.950000\n",
       "75%       897.000000\n",
       "max      2788.000000\n",
       "Name: BoxOfficeGlobal, dtype: float64"
      ]
     },
     "execution_count": 53,
     "metadata": {},
     "output_type": "execute_result"
    }
   ],
   "source": [
    "dt.BoxOfficeGlobal.describe() # USD million"
   ]
  },
  {
   "cell_type": "code",
   "execution_count": 313,
   "metadata": {
    "scrolled": true
   },
   "outputs": [
    {
     "data": {
      "text/plain": [
       "Text(0.5, 0, 'Year')"
      ]
     },
     "execution_count": 313,
     "metadata": {},
     "output_type": "execute_result"
    },
    {
     "data": {
      "image/png": "[encoded data removed]",
      "text/plain": [
       "<Figure size 1440x576 with 4 Axes>"
      ]
     },
     "metadata": {},
     "output_type": "display_data"
    }
   ],
   "source": [
    "f, ax = plt.subplots(nrows=2, ncols=2, figsize=(20,8))\n",
    "ax[0][0].scatter(x=\"Month\", y=\"BoxOffice\",data=dt_cn)\n",
    "ax[0][0].set_ylabel('China Domestic BoxOffice (Million USD)')\n",
    "ax[0][0].set_xlabel('Month')\n",
    "ax[0][1].scatter(x=\"Year\", y=\"BoxOffice\",data=dt_cn)\n",
    "ax[0][1].set_ylabel('China Domestic BoxOffice (Million USD)')\n",
    "ax[0][1].set_xlabel('Year')\n",
    "\n",
    "ax[1][0].scatter(x=\"Month\", y=\"BoxOffice\",data=dt_na)\n",
    "ax[1][0].set_ylabel('NA Domestic BoxOffice (Million USD)')\n",
    "ax[1][0].set_xlabel('Month')\n",
    "ax[1][1].scatter(x=\"Year\", y=\"BoxOffice\",data=dt_na)\n",
    "ax[1][1].set_ylabel('NA Domestic BoxOffice (Million USD)')\n",
    "ax[1][1].set_xlabel('Year')"
   ]
  },
  {
   "cell_type": "code",
   "execution_count": 318,
   "metadata": {},
   "outputs": [],
   "source": [
    "Month=[]\n",
    "Month_count=[]\n",
    "Month_money=[]\n",
    "for i in dt_cn.Month.unique():\n",
    "    Month.append(i)\n",
    "    Month_count.append(len(dt.Month[dt.Month==i]))\n",
    "    Month_money.append(dt_cn.BoxOffice[dt_cn.Month==i].sum())\n",
    "dt_cn_month=pd.DataFrame({\"Month\":Month,\"Month_count\":Month_count,\"Month_money\":Month_money})\n",
    "dt_cn_month[\"Avg\"]=dt_cn_month.Month_money/dt_cn_month.Month_count\n",
    "dt_cn_month.to_csv(\"Month_data_cn.csv\")\n",
    "dt_cn_month=dt_cn_month.sort_values(by=\"Month\")\n",
    "\n",
    "dt_cn_month_sep=dt[[\"Month\",\"BoxOffice\"]].sort_values(by=\"Month\")\n",
    "dt_cn_month_sep_list=[]\n",
    "dt_cn_month_sep_list_lab=[]\n",
    "for m in dt_cn_month_sep.Month.unique():\n",
    "    dt_cn_month_sep_list_lab.append(m)\n",
    "    dt_cn_month_sep_list.append(dt_cn_month_sep.BoxOffice[dt_cn_month_sep.Month==m].values.tolist())"
   ]
  },
  {
   "cell_type": "code",
   "execution_count": 319,
   "metadata": {},
   "outputs": [],
   "source": [
    "Month=[]\n",
    "Month_count=[]\n",
    "Month_money=[]\n",
    "for i in dt_na.Month.unique():\n",
    "    Month.append(i)\n",
    "    Month_count.append(len(dt.Month[dt.Month==i]))\n",
    "    Month_money.append(dt_na.BoxOffice[dt_na.Month==i].sum())\n",
    "dt_na_month=pd.DataFrame({\"Month\":Month,\"Month_count\":Month_count,\"Month_money\":Month_money})\n",
    "dt_na_month[\"Avg\"]=dt_na_month.Month_money/dt_na_month.Month_count\n",
    "dt_na_month.to_csv(\"Month_data_cn.csv\")\n",
    "dt_na_month=dt_na_month.sort_values(by=\"Month\")\n",
    "\n",
    "dt_na_month_sep=dt[[\"Month\",\"BoxOffice\"]].sort_values(by=\"Month\")\n",
    "dt_na_month_sep_list=[]\n",
    "dt_na_month_sep_list_lab=[]\n",
    "for m in dt_na_month_sep.Month.unique():\n",
    "    dt_na_month_sep_list_lab.append(m)\n",
    "    dt_na_month_sep_list.append(dt_na_month_sep.BoxOffice[dt_na_month_sep.Month==m].values.tolist())"
   ]
  },
  {
   "cell_type": "code",
   "execution_count": 321,
   "metadata": {},
   "outputs": [
    {
     "data": {
      "text/plain": [
       "Text(0.5, 0, 'Month')"
      ]
     },
     "execution_count": 321,
     "metadata": {},
     "output_type": "execute_result"
    },
    {
     "data": {
      "image/png": "[encoded data removed]",
      "text/plain": [
       "<Figure size 1440x864 with 4 Axes>"
      ]
     },
     "metadata": {},
     "output_type": "display_data"
    }
   ],
   "source": [
    "f, ax = plt.subplots(nrows=2, ncols=2, figsize=(20,12))\n",
    "ax[0][0].bar(x=\"Month\", height=\"Month_money\",data=dt_cn_month)\n",
    "ax[0][0].set_ylabel('CN Domestic BoxOffice (Million USD)')\n",
    "ax[0][0].set_xlabel('Month')\n",
    "\n",
    "ax[0][1].bar(x=\"Month\", height=\"Month_money\",data=dt_na_month)\n",
    "ax[0][1].set_ylabel('NA GlobalBoxOffice (Million USD)')\n",
    "ax[0][1].set_xlabel('Month')\n",
    "\n",
    "ax[1][0].bar(x=\"Month\", height=\"Month_count\",data=dt_cn_month)\n",
    "ax[1][0].set_ylabel('CN Domestic Frequency (Million USD)')\n",
    "ax[1][0].set_xlabel('Month')\n",
    "\n",
    "ax[1][1].bar(x=\"Month\", height=\"Month_count\",data=dt_na_month)\n",
    "ax[1][1].set_ylabel('NA Domestic Frequency (Million USD)')\n",
    "ax[1][1].set_xlabel('Month')"
   ]
  },
  {
   "cell_type": "code",
   "execution_count": 333,
   "metadata": {},
   "outputs": [],
   "source": [
    "dt_genre_box=dt_na[[\"BoxOffice\"]+list(unique_genere)]"
   ]
  },
  {
   "cell_type": "code",
   "execution_count": 338,
   "metadata": {},
   "outputs": [
    {
     "ename": "KeyError",
     "evalue": "19",
     "output_type": "error",
     "traceback": [
      "\u001b[0;31m---------------------------------------------------------------------------\u001b[0m",
      "\u001b[0;31mKeyError\u001b[0m                                  Traceback (most recent call last)",
      "\u001b[0;32m<ipython-input-338-e4b32e73fd7e>\u001b[0m in \u001b[0;36m<module>\u001b[0;34m\u001b[0m\n\u001b[1;32m      4\u001b[0m     \u001b[0;32mfor\u001b[0m \u001b[0mj\u001b[0m \u001b[0;32min\u001b[0m \u001b[0mrange\u001b[0m\u001b[0;34m(\u001b[0m\u001b[0mlen\u001b[0m\u001b[0;34m(\u001b[0m\u001b[0mdt_genre_box\u001b[0m\u001b[0;34m.\u001b[0m\u001b[0mBoxOffice\u001b[0m\u001b[0;34m)\u001b[0m\u001b[0;34m)\u001b[0m\u001b[0;34m:\u001b[0m\u001b[0;34m\u001b[0m\u001b[0m\n\u001b[1;32m      5\u001b[0m         \u001b[0;32mif\u001b[0m \u001b[0mdt_genre_box\u001b[0m\u001b[0;34m.\u001b[0m\u001b[0miloc\u001b[0m\u001b[0;34m[\u001b[0m\u001b[0mj\u001b[0m\u001b[0;34m,\u001b[0m\u001b[0mi\u001b[0m\u001b[0;34m]\u001b[0m\u001b[0;34m==\u001b[0m\u001b[0;32mTrue\u001b[0m\u001b[0;34m:\u001b[0m\u001b[0;34m\u001b[0m\u001b[0m\n\u001b[0;32m----> 6\u001b[0;31m             \u001b[0mdt_genre_box\u001b[0m\u001b[0;34m.\u001b[0m\u001b[0miloc\u001b[0m\u001b[0;34m[\u001b[0m\u001b[0mj\u001b[0m\u001b[0;34m,\u001b[0m\u001b[0mi\u001b[0m\u001b[0;34m]\u001b[0m\u001b[0;34m=\u001b[0m\u001b[0mdt_genre_box\u001b[0m\u001b[0;34m.\u001b[0m\u001b[0mBoxOffice\u001b[0m\u001b[0;34m[\u001b[0m\u001b[0mj\u001b[0m\u001b[0;34m]\u001b[0m\u001b[0;34m\u001b[0m\u001b[0m\n\u001b[0m\u001b[1;32m      7\u001b[0m \u001b[0mdt_genre_box_money\u001b[0m\u001b[0;34m=\u001b[0m\u001b[0mdt_genre_box\u001b[0m\u001b[0;34m[\u001b[0m\u001b[0mdt_genre_box\u001b[0m\u001b[0;34m.\u001b[0m\u001b[0mcolumns\u001b[0m\u001b[0;34m[\u001b[0m\u001b[0;36m1\u001b[0m\u001b[0;34m:\u001b[0m\u001b[0;34m]\u001b[0m\u001b[0;34m]\u001b[0m\u001b[0;34m\u001b[0m\u001b[0m\n\u001b[1;32m      8\u001b[0m \u001b[0;31m#\u001b[0m\u001b[0;34m\u001b[0m\u001b[0;34m\u001b[0m\u001b[0m\n",
      "\u001b[0;32m/Library/Frameworks/Python.framework/Versions/3.7/lib/python3.7/site-packages/pandas/core/series.py\u001b[0m in \u001b[0;36m__getitem__\u001b[0;34m(self, key)\u001b[0m\n\u001b[1;32m    866\u001b[0m         \u001b[0mkey\u001b[0m \u001b[0;34m=\u001b[0m \u001b[0mcom\u001b[0m\u001b[0;34m.\u001b[0m\u001b[0mapply_if_callable\u001b[0m\u001b[0;34m(\u001b[0m\u001b[0mkey\u001b[0m\u001b[0;34m,\u001b[0m \u001b[0mself\u001b[0m\u001b[0;34m)\u001b[0m\u001b[0;34m\u001b[0m\u001b[0m\n\u001b[1;32m    867\u001b[0m         \u001b[0;32mtry\u001b[0m\u001b[0;34m:\u001b[0m\u001b[0;34m\u001b[0m\u001b[0m\n\u001b[0;32m--> 868\u001b[0;31m             \u001b[0mresult\u001b[0m \u001b[0;34m=\u001b[0m \u001b[0mself\u001b[0m\u001b[0;34m.\u001b[0m\u001b[0mindex\u001b[0m\u001b[0;34m.\u001b[0m\u001b[0mget_value\u001b[0m\u001b[0;34m(\u001b[0m\u001b[0mself\u001b[0m\u001b[0;34m,\u001b[0m \u001b[0mkey\u001b[0m\u001b[0;34m)\u001b[0m\u001b[0;34m\u001b[0m\u001b[0m\n\u001b[0m\u001b[1;32m    869\u001b[0m \u001b[0;34m\u001b[0m\u001b[0m\n\u001b[1;32m    870\u001b[0m             \u001b[0;32mif\u001b[0m \u001b[0;32mnot\u001b[0m \u001b[0mis_scalar\u001b[0m\u001b[0;34m(\u001b[0m\u001b[0mresult\u001b[0m\u001b[0;34m)\u001b[0m\u001b[0;34m:\u001b[0m\u001b[0;34m\u001b[0m\u001b[0m\n",
      "\u001b[0;32m/Library/Frameworks/Python.framework/Versions/3.7/lib/python3.7/site-packages/pandas/core/indexes/base.py\u001b[0m in \u001b[0;36mget_value\u001b[0;34m(self, series, key)\u001b[0m\n\u001b[1;32m   4372\u001b[0m         \u001b[0;32mtry\u001b[0m\u001b[0;34m:\u001b[0m\u001b[0;34m\u001b[0m\u001b[0m\n\u001b[1;32m   4373\u001b[0m             return self._engine.get_value(s, k,\n\u001b[0;32m-> 4374\u001b[0;31m                                           tz=getattr(series.dtype, 'tz', None))\n\u001b[0m\u001b[1;32m   4375\u001b[0m         \u001b[0;32mexcept\u001b[0m \u001b[0mKeyError\u001b[0m \u001b[0;32mas\u001b[0m \u001b[0me1\u001b[0m\u001b[0;34m:\u001b[0m\u001b[0;34m\u001b[0m\u001b[0m\n\u001b[1;32m   4376\u001b[0m             \u001b[0;32mif\u001b[0m \u001b[0mlen\u001b[0m\u001b[0;34m(\u001b[0m\u001b[0mself\u001b[0m\u001b[0;34m)\u001b[0m \u001b[0;34m>\u001b[0m \u001b[0;36m0\u001b[0m \u001b[0;32mand\u001b[0m \u001b[0;34m(\u001b[0m\u001b[0mself\u001b[0m\u001b[0;34m.\u001b[0m\u001b[0mholds_integer\u001b[0m\u001b[0;34m(\u001b[0m\u001b[0;34m)\u001b[0m \u001b[0;32mor\u001b[0m \u001b[0mself\u001b[0m\u001b[0;34m.\u001b[0m\u001b[0mis_boolean\u001b[0m\u001b[0;34m(\u001b[0m\u001b[0;34m)\u001b[0m\u001b[0;34m)\u001b[0m\u001b[0;34m:\u001b[0m\u001b[0;34m\u001b[0m\u001b[0m\n",
      "\u001b[0;32mpandas/_libs/index.pyx\u001b[0m in \u001b[0;36mpandas._libs.index.IndexEngine.get_value\u001b[0;34m()\u001b[0m\n",
      "\u001b[0;32mpandas/_libs/index.pyx\u001b[0m in \u001b[0;36mpandas._libs.index.IndexEngine.get_value\u001b[0;34m()\u001b[0m\n",
      "\u001b[0;32mpandas/_libs/index.pyx\u001b[0m in \u001b[0;36mpandas._libs.index.IndexEngine.get_loc\u001b[0;34m()\u001b[0m\n",
      "\u001b[0;32mpandas/_libs/hashtable_class_helper.pxi\u001b[0m in \u001b[0;36mpandas._libs.hashtable.Int64HashTable.get_item\u001b[0;34m()\u001b[0m\n",
      "\u001b[0;32mpandas/_libs/hashtable_class_helper.pxi\u001b[0m in \u001b[0;36mpandas._libs.hashtable.Int64HashTable.get_item\u001b[0;34m()\u001b[0m\n",
      "\u001b[0;31mKeyError\u001b[0m: 19"
     ]
    }
   ],
   "source": [
    "for i in range(len(dt_genre_box.columns)):\n",
    "    if i==0:\n",
    "        continue\n",
    "    for j in range(len(dt_genre_box.BoxOffice)):\n",
    "        if dt_genre_box.iloc[j,i]==True:\n",
    "            dt_genre_box.iloc[j,i]=dt_genre_box.BoxOffice[j]\n",
    "dt_genre_box_money=dt_genre_box[dt_genre_box.columns[1:]]\n",
    "#\n",
    "Genre=[]\n",
    "Money=[]\n",
    "Count=[]\n",
    "for i in unique_genere:\n",
    "    Genre.append(i)\n",
    "    Money.append(dt_genre_box_money[i].sum())\n",
    "    Count.append(dt[i].sum())\n",
    "dt_genre_count=pd.DataFrame({\"Genre\":Genre,\"Count\":Count,\"BoxOffice\":Money})\n",
    "#\n",
    "Genre=[]\n",
    "Money=[]\n",
    "for i in range(len(dt.BoxOffice)):\n",
    "    for g in unique_genere:\n",
    "        if g in dt.Genre[i]:\n",
    "            Genre.append(g)\n",
    "            Money.append(dt.BoxOffice[i])\n",
    "dt_genre_count_seperate=pd.DataFrame({\"Genre\":Genre,\"BoxOffice\":Money})\n",
    "dt_genre_count_seperate"
   ]
  },
  {
   "cell_type": "code",
   "execution_count": 327,
   "metadata": {},
   "outputs": [],
   "source": [
    "dt_genre_count.to_csv(\"Genre_BoxOffice.csv\")\n",
    "dt_genre_count_seperate.to_csv(\"Genre_BoxOffice_sep.csv\")"
   ]
  },
  {
   "cell_type": "code",
   "execution_count": 328,
   "metadata": {},
   "outputs": [],
   "source": [
    "dt_genre_count[\"Average\"]=dt_genre_count.BoxOffice/dt_genre_count.Count\n",
    "dt_genre_count=dt_genre_count.sort_values(by=\"Count\")"
   ]
  },
  {
   "cell_type": "code",
   "execution_count": 329,
   "metadata": {},
   "outputs": [],
   "source": [
    "# \n",
    "dt_genre_count_seperate_list=[]\n",
    "dt_genre_count_seperate_list_lab=[]\n",
    "for g in dt_genre_count.Genre.unique():\n",
    "    dt_genre_count_seperate_list_lab.append(g)\n",
    "    dt_genre_count_seperate_list.append(dt_genre_count_seperate.BoxOffice[dt_genre_count_seperate.Genre==g].values.tolist())"
   ]
  },
  {
   "cell_type": "code",
   "execution_count": 330,
   "metadata": {
    "scrolled": true
   },
   "outputs": [
    {
     "data": {
      "text/plain": [
       "[Text(0, 0, '音乐'),\n",
       " Text(0, 0, '歌舞'),\n",
       " Text(0, 0, '恐怖'),\n",
       " Text(0, 0, '传记'),\n",
       " Text(0, 0, '战争'),\n",
       " Text(0, 0, '悬疑'),\n",
       " Text(0, 0, '犯罪'),\n",
       " Text(0, 0, '爱情'),\n",
       " Text(0, 0, '惊悚'),\n",
       " Text(0, 0, '家庭'),\n",
       " Text(0, 0, '动画'),\n",
       " Text(0, 0, '剧情'),\n",
       " Text(0, 0, '科幻'),\n",
       " Text(0, 0, '喜剧'),\n",
       " Text(0, 0, '奇幻'),\n",
       " Text(0, 0, '动作'),\n",
       " Text(0, 0, '冒险')]"
      ]
     },
     "execution_count": 330,
     "metadata": {},
     "output_type": "execute_result"
    },
    {
     "data": {
      "image/png": "[encoded data removed]",
      "text/plain": [
       "<Figure size 1440x864 with 4 Axes>"
      ]
     },
     "metadata": {},
     "output_type": "display_data"
    }
   ],
   "source": [
    "f, ax = plt.subplots(nrows=2, ncols=2, figsize=(20,12))\n",
    "ax[0][0].bar(x=\"Genre\", height=\"Count\",data=dt_genre_count)\n",
    "ax[0][0].set_ylabel('Frequency')\n",
    "ax[0][1].bar(x=\"Genre\", height=\"BoxOffice\",data=dt_genre_count)\n",
    "ax[0][1].set_ylabel('Total GlobalBoxOffice (Million USD)')\n",
    "ax[1][0].bar(x=\"Genre\", height=\"Average\",data=dt_genre_count)\n",
    "ax[1][0].set_ylabel('Avg GlobalBoxOffice (Million USD)')\n",
    "ax[1][1].boxplot(dt_genre_count_seperate_list,flierprops=dict(marker='D', markerfacecolor='b', markersize=4,markeredgecolor='b'),\n",
    "                medianprops=dict(color='r'))\n",
    "ax[1][1].set_ylabel(\"GlobalBoxOffice (Million USD)\")\n",
    "ax[1][1].set_xticklabels(dt_genre_count_seperate_list_lab)"
   ]
  },
  {
   "cell_type": "code",
   "execution_count": null,
   "metadata": {},
   "outputs": [],
   "source": [
    "f, ax = plt.subplots(nrows=2, ncols=2, figsize=(20,12))\n",
    "ax[0][0].bar(x=\"Genre\", height=\"Count\",data=dt_genre_count)\n",
    "ax[0][0].set_ylabel('Frequency')\n",
    "ax[0][0].set_xlabel('China')\n",
    "ax[0][1].bar(x=\"Genre\", height=\"Count\",data=dt_genre_count)\n",
    "ax[0][1].set_ylabel('North America')\n",
    "\n",
    "ax[1][1].boxplot(dt_genre_count_seperate_list,flierprops=dict(marker='D', markerfacecolor='b', markersize=4,markeredgecolor='b'),\n",
    "                medianprops=dict(color='r'))\n",
    "ax[1][1].set_ylabel(\"GlobalBoxOffice (Million USD)\")\n",
    "ax[1][1].set_xticklabels(dt_genre_count_seperate_list_lab)"
   ]
  },
  {
   "cell_type": "code",
   "execution_count": 350,
   "metadata": {},
   "outputs": [
    {
     "data": {
      "text/html": [
       "<div>\n",
       "<style scoped>\n",
       "    .dataframe tbody tr th:only-of-type {\n",
       "        vertical-align: middle;\n",
       "    }\n",
       "\n",
       "    .dataframe tbody tr th {\n",
       "        vertical-align: top;\n",
       "    }\n",
       "\n",
       "    .dataframe thead th {\n",
       "        text-align: right;\n",
       "    }\n",
       "</style>\n",
       "<table border=\"1\" class=\"dataframe\">\n",
       "  <thead>\n",
       "    <tr style=\"text-align: right;\">\n",
       "      <th></th>\n",
       "      <th>Name</th>\n",
       "      <th>NameEng</th>\n",
       "      <th>MtimePage</th>\n",
       "      <th>ReleaseDate</th>\n",
       "      <th>BoxOffice</th>\n",
       "      <th>BoxOfficeDetail</th>\n",
       "      <th>BoxOfficeRankCN</th>\n",
       "      <th>BoxOfficeRankNA</th>\n",
       "      <th>BoxOfficeRankG</th>\n",
       "      <th>MtimeRating</th>\n",
       "      <th>...</th>\n",
       "      <th>传记</th>\n",
       "      <th>恐怖</th>\n",
       "      <th>爱情</th>\n",
       "      <th>犯罪</th>\n",
       "      <th>歌舞</th>\n",
       "      <th>科幻</th>\n",
       "      <th>战争</th>\n",
       "      <th>动作</th>\n",
       "      <th>剧情</th>\n",
       "      <th>动画</th>\n",
       "    </tr>\n",
       "  </thead>\n",
       "  <tbody>\n",
       "    <tr>\n",
       "      <th>51</th>\n",
       "      <td>澳门风云3</td>\n",
       "      <td>From Vegas To Macau</td>\n",
       "      <td>http://movie.mtime.com/222326</td>\n",
       "      <td>2016-02-08</td>\n",
       "      <td>167.7</td>\n",
       "      <td>首日1.76亿|首周7.87亿</td>\n",
       "      <td>52</td>\n",
       "      <td>0</td>\n",
       "      <td>0</td>\n",
       "      <td>4.7</td>\n",
       "      <td>...</td>\n",
       "      <td>False</td>\n",
       "      <td>False</td>\n",
       "      <td>False</td>\n",
       "      <td>False</td>\n",
       "      <td>False</td>\n",
       "      <td>False</td>\n",
       "      <td>False</td>\n",
       "      <td>True</td>\n",
       "      <td>False</td>\n",
       "      <td>False</td>\n",
       "    </tr>\n",
       "  </tbody>\n",
       "</table>\n",
       "<p>1 rows × 39 columns</p>\n",
       "</div>"
      ],
      "text/plain": [
       "     Name              NameEng                      MtimePage ReleaseDate  \\\n",
       "51  澳门风云3  From Vegas To Macau  http://movie.mtime.com/222326  2016-02-08   \n",
       "\n",
       "    BoxOffice  BoxOfficeDetail  BoxOfficeRankCN  BoxOfficeRankNA  \\\n",
       "51      167.7  首日1.76亿|首周7.87亿               52                0   \n",
       "\n",
       "    BoxOfficeRankG  MtimeRating  ...     传记     恐怖     爱情     犯罪     歌舞  \\\n",
       "51               0          4.7  ...  False  False  False  False  False   \n",
       "\n",
       "       科幻     战争    动作     剧情     动画  \n",
       "51  False  False  True  False  False  \n",
       "\n",
       "[1 rows x 39 columns]"
      ]
     },
     "execution_count": 350,
     "metadata": {},
     "output_type": "execute_result"
    }
   ],
   "source": [
    "dt.MtimeRating.describe()\n",
    "dt[dt.MtimeRating==min(dt.MtimeRating)]"
   ]
  },
  {
   "cell_type": "code",
   "execution_count": 349,
   "metadata": {},
   "outputs": [
    {
     "data": {
      "text/plain": [
       "count    300.000000\n",
       "mean       7.630667\n",
       "std        0.717152\n",
       "min        4.700000\n",
       "25%        7.300000\n",
       "50%        7.600000\n",
       "75%        8.100000\n",
       "max        9.100000\n",
       "Name: MtimeRating, dtype: float64"
      ]
     },
     "execution_count": 349,
     "metadata": {},
     "output_type": "execute_result"
    }
   ],
   "source": [
    "dt.MtimeRating.describe()"
   ]
  },
  {
   "cell_type": "code",
   "execution_count": 348,
   "metadata": {},
   "outputs": [
    {
     "data": {
      "text/plain": [
       "<matplotlib.axes._subplots.AxesSubplot at 0x134212cc0>"
      ]
     },
     "execution_count": 348,
     "metadata": {},
     "output_type": "execute_result"
    },
    {
     "data": {
      "image/png": "[encoded data removed]",
      "text/plain": [
       "<Figure size 1584x792 with 1 Axes>"
      ]
     },
     "metadata": {},
     "output_type": "display_data"
    }
   ],
   "source": [
    "sns.regplot(x=\"MtimeRating\", y=\"BoxOffice\", data=dt)"
   ]
  },
  {
   "cell_type": "code",
   "execution_count": null,
   "metadata": {},
   "outputs": [],
   "source": []
  }
 ],
 "metadata": {
  "kernelspec": {
   "display_name": "Python 3",
   "language": "python",
   "name": "python3"
  },
  "language_info": {
   "codemirror_mode": {
    "name": "ipython",
    "version": 3
   },
   "file_extension": ".py",
   "mimetype": "text/x-python",
   "name": "python",
   "nbconvert_exporter": "python",
   "pygments_lexer": "ipython3",
   "version": "3.7.0"
  }
 },
 "nbformat": 4,
 "nbformat_minor": 2
}
