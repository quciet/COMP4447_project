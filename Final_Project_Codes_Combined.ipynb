{
 "cells": [
  {
   "cell_type": "markdown",
   "metadata": {},
   "source": [
    "# Codes for Final Submission"
   ]
  },
  {
   "cell_type": "code",
   "execution_count": 1,
   "metadata": {},
   "outputs": [],
   "source": [
    "### import module\n",
    "import pandas as pd\n",
    "import requests as rq\n",
    "import numpy as np\n",
    "from bs4 import BeautifulSoup as bsp\n",
    "import time\n",
    "import re\n",
    "import ast\n",
    "import math"
   ]
  },
  {
   "cell_type": "markdown",
   "metadata": {},
   "source": [
    "## Scraping the BoxOffice Rankings\n",
    "## And save them to seperate CSV files in the current dirrectory\n",
    "\n",
    "### Notice: \n",
    "- Following web-scraping part would take a long time to run\n",
    "- If you have the raw_final_data.csv in the current working folder, you could directly skip to analysis & visulization part"
   ]
  },
  {
   "cell_type": "code",
   "execution_count": null,
   "metadata": {},
   "outputs": [],
   "source": [
    "## get the rank and link to each individual movie for top 100 sales in China/NA/Global\n",
    "for area in [\"china\",\"global\",\"NorthAmerica\"]:\n",
    "    with open('mtime_data_'+area+'.txt', mode='w') as file:\n",
    "        rank=1\n",
    "        for page in range(10):\n",
    "            parameters={\"area\":area,\n",
    "                       \"type\":\"MovieRankingHistory\",\n",
    "                       \"category\":\"all\",\n",
    "                       \"page\":f'{page}',\n",
    "                       \"display\":\"list\",\n",
    "                       \"timestamp\":f'{time.time()}',\n",
    "                       \"version\":\"07bb781100018dd58eafc3b35d42686804c6df8d\",\n",
    "                       \"dataType\":\"json\"}\n",
    "            try:\n",
    "                MtimeRank = rq.get(\"http://movie.mtime.com/boxoffice/\",params=parameters,timeout=10)\n",
    "            except:\n",
    "                print(f'Page {page} of area {area} for the MTime Boxoffice connection timeout')\n",
    "                continue\n",
    "                \n",
    "            if MtimeRank.status_code!=200:\n",
    "                print(f'Page {page} of area {area} for the MTime Boxoffice failed connection.')\n",
    "                continue\n",
    "\n",
    "            soup=bsp(MtimeRank.json()['html'])\n",
    "            basic_info=soup.find_all(\"div\",{\"class\":\"txtbox\"})\n",
    "        \n",
    "            for info in basic_info:\n",
    "                for i in info.contents:\n",
    "                    if i.name !=\"b\":\n",
    "                        if i.name == 'h3':\n",
    "                            ## creating a personal split symbol \"--;\" for convenience\n",
    "                            file.write('{}--;'.format(rank))\n",
    "                            id_name=str(i.contents)\n",
    "                            file.write('{}--;'.format(re.search(\"http.+[0-9]+\\\"\",id_name).group(0)[:-1]))\n",
    "                            file.write('{}--;'.format(re.search(\"\\>.+\\<\",id_name).group(0)[1:-1]))\n",
    "                        else:\n",
    "                            file.write('{}--;'.format(i.text))\n",
    "                for j in list(info.next_siblings):\n",
    "                    for k in j.contents:\n",
    "                        file.write('{}--;'.format(k.text))\n",
    "                file.write('\\n')\n",
    "                # increase the rank and go to next moive\n",
    "                rank+=1\n",
    "        file.flush()"
   ]
  },
  {
   "cell_type": "markdown",
   "metadata": {},
   "source": [
    "#### notice that sales in china is in CNY while its USD for global & NA\n",
    "#### see if crutial information has been scraped"
   ]
  },
  {
   "cell_type": "code",
   "execution_count": null,
   "metadata": {},
   "outputs": [],
   "source": [
    "## see if crutial information has been scraped \n",
    "for area in [\"china\",\"global\",\"NorthAmerica\"]:\n",
    "    with open('mtime_data_'+area+'.txt', mode='r') as file:\n",
    "        contents=file.read()\n",
    "    assert len(re.findall(\"http\",contents))==100\n",
    "    ## check scraped information for a movie\n",
    "    basic_info=[]\n",
    "    info_size=[]\n",
    "    with open('mtime_data_'+area+'.txt', mode='r') as file:\n",
    "        for line in file:\n",
    "            basic=line.strip(\"\\n--;\").split(\"--;\")\n",
    "            basic_info.append(basic)\n",
    "            info_size.append(len(basic))\n",
    "    # output a sample basic information\n",
    "    for i in basic_info:\n",
    "        if len(i)==max(info_size):\n",
    "            output=i\n",
    "        break\n",
    "    print(output)"
   ]
  },
  {
   "cell_type": "markdown",
   "metadata": {},
   "source": [
    "### enter the page of each individual movie in the ranking list"
   ]
  },
  {
   "cell_type": "code",
   "execution_count": null,
   "metadata": {},
   "outputs": [],
   "source": [
    "#### for each of three top 100 sales\n",
    "data=[]\n",
    "area=[\"china\",\"global\",\"NorthAmerica\"]\n",
    "for i in area:\n",
    "    with open(\"mtime_data_\"+i+\".txt\",mode='r') as file:\n",
    "        for line in file:\n",
    "            data.append(i+' '+re.sub(r'(\\xa0)|\\n','',line))\n",
    "### basic data frame\n",
    "movie_name=[]\n",
    "movie_eng=[]\n",
    "link=[]\n",
    "mtime_rate=[]\n",
    "rate_users=[]\n",
    "box_office=[]\n",
    "BoxOfficeDetail=[]\n",
    "ReleaseDate=[]\n",
    "BoxOfficeRankCN=[]\n",
    "BoxOfficeRankG=[]\n",
    "BoxOfficeRankNA=[]\n",
    "for i in data:\n",
    "    infor=i.split(r\"--;\")\n",
    "    movie_name.append(infor[2])\n",
    "    movie_eng.append(infor[3])\n",
    "    link.append(infor[1])\n",
    "    \n",
    "    if \"首\" in infor[4]:\n",
    "        BoxOfficeDetail.append(infor[4])\n",
    "    else:\n",
    "        BoxOfficeDetail.append(np.NaN)\n",
    "        \n",
    "    ReleaseDate.append(re.search(r\"\\d+年\\d+月\\d+日\\w*上映\",i).group().replace(\"上映\",\"\"))\n",
    "    \n",
    "    \n",
    "    sale_rate_txt=re.search(r\"--;\\d\\.\\d--;\\d+人评分--;.+--;\",i).group()\n",
    "    sale_rate=re.sub(r\"累计人次.+\",\"\",sale_rate_txt).split(\"--;\")\n",
    "    mtime_rate.append(sale_rate[1])\n",
    "    rate_users.append(sale_rate[2].replace(\"人评分\",\"\"))\n",
    "    \n",
    "    if \"china\" in infor[0]:\n",
    "        BoxOfficeRankCN.append(infor[0].replace(\"china \",\"\"))\n",
    "        BoxOfficeRankG.append(np.NaN)\n",
    "        BoxOfficeRankNA.append(np.NaN)\n",
    "        box_office.append(sale_rate[-2]+\"CNY\")\n",
    "    elif \"global\" in infor[0]:\n",
    "        BoxOfficeRankG.append(infor[0].replace(\"global \",\"\"))\n",
    "        box_office.append(sale_rate[-2]+\"USD\")\n",
    "        BoxOfficeRankCN.append(np.NaN)\n",
    "        BoxOfficeRankNA.append(np.NaN)\n",
    "    elif \"NorthAmerica\" in infor[0]:\n",
    "        BoxOfficeRankNA.append(infor[0].replace(\"NorthAmerica \",\"\"))\n",
    "        box_office.append(sale_rate[-2]+\"USD\")\n",
    "        BoxOfficeRankG.append(np.NaN)\n",
    "        BoxOfficeRankCN.append(np.NaN)\n",
    "dat={\"Name\":movie_name,\"NameEng\":movie_eng,\"MtimePage\":link,\"ReleaseDate\":ReleaseDate,\"BoxOffice\":box_office,\n",
    "     \"BoxOfficeDetail\":BoxOfficeDetail,\"BoxOfficeRankCN\":BoxOfficeRankCN,\"BoxOfficeRankNA\":BoxOfficeRankNA,\n",
    "     \"BoxOfficeRankG\":BoxOfficeRankG,\"MtimeRating\":mtime_rate,\n",
    "    \"NumberofReviewers\":rate_users}\n",
    "dt=pd.DataFrame.from_dict(dat)\n",
    "dt.head()"
   ]
  },
  {
   "cell_type": "markdown",
   "metadata": {},
   "source": [
    "### There certainly will be overlapping among three ranking lists"
   ]
  },
  {
   "cell_type": "code",
   "execution_count": null,
   "metadata": {},
   "outputs": [],
   "source": [
    "## fill in rankings\n",
    "for i in data:\n",
    "    infor=i.split(r\"--;\")\n",
    "    if \"china\" in infor[0]:\n",
    "        dt.loc[dt.Name==infor[2],\"BoxOfficeRankCN\"]=infor[0].replace(\"china \",\"\")\n",
    "    elif \"global\" in infor[0]:\n",
    "        dt.loc[dt.Name==infor[2],\"BoxOfficeRankG\"]=infor[0].replace(\"global \",\"\")\n",
    "    elif \"NorthAmerica\" in infor[0]:\n",
    "        dt.loc[dt.Name==infor[2],\"BoxOfficeRankNA\"]=infor[0].replace(\"NorthAmerica \",\"\")\n",
    "## fill in Global sales\n",
    "dt_global=dt.iloc[100:200,[0,4]]\n",
    "dt_global=dt_global.rename(columns={'BoxOffice':'BoxOfficeGlobal'})\n",
    "dt_merged=pd.merge(dt,dt_global,how=\"left\")"
   ]
  },
  {
   "cell_type": "markdown",
   "metadata": {},
   "source": [
    "### Get Runtime, Genre(catergory), FilmFormat for each movie"
   ]
  },
  {
   "cell_type": "code",
   "execution_count": null,
   "metadata": {},
   "outputs": [],
   "source": [
    "# more basic information for each movie\n",
    "Runtime=[]\n",
    "Genre=[]\n",
    "FilmFormat=[]\n",
    "for i in dt_merged.MtimePage:\n",
    "    try:\n",
    "        detailpage=rq.get(i,timeout=10)\n",
    "    except:\n",
    "        print(f'{i} Time out')\n",
    "    if detailpage.status_code==200:\n",
    "        soup=bsp(detailpage.text,\"lxml\")\n",
    "    else:\n",
    "        print(f'{i} connection failed')\n",
    "        continue\n",
    "\n",
    "    ## Runtime, Genre(catergory), FilmFormat\n",
    "    more_infor=soup.body.find_all(\"div\",{\"class\":\"otherbox\"})\n",
    "    if more_infor:\n",
    "        more_infor_list=more_infor[0].text.split(\"-\")\n",
    "        try:\n",
    "            Runtime.append(more_infor_list[0].strip())\n",
    "        except:\n",
    "            Runtime.append(np.NaN)\n",
    "        try:\n",
    "            Genre.append(more_infor_list[1].strip())\n",
    "        except:\n",
    "            Genre.append(np.NaN)\n",
    "        try:\n",
    "            FilmFormat.append(more_infor_list[3].strip())\n",
    "        except:\n",
    "            FilmFormat.append(np.NaN)\n",
    "    else:\n",
    "        Runtime.append(np.NaN)\n",
    "        Genre.append(np.NaN)\n",
    "        FilmFormat.append(np.NaN)\n",
    "dt_merged[\"Runtime\"]=Runtime\n",
    "dt_merged[\"Genre\"]=Genre\n",
    "dt_merged[\"FilmFormat\"]=FilmFormat"
   ]
  },
  {
   "cell_type": "markdown",
   "metadata": {},
   "source": [
    "### Get actor names and staff members including writers, directors...."
   ]
  },
  {
   "cell_type": "code",
   "execution_count": null,
   "metadata": {},
   "outputs": [],
   "source": [
    "## actor/ staff member\n",
    "## 演、职员\n",
    "actor_staff=[]\n",
    "for i in dt_merged.MtimePage:\n",
    "    try:\n",
    "        detailpage=rq.get(i+\"/fullcredits.html\",timeout=10)\n",
    "    except:\n",
    "        print(f'{i} Time out')\n",
    "    if detailpage.status_code==200:\n",
    "        soup=bsp(detailpage.text,\"lxml\")\n",
    "    else:\n",
    "        print(f'{i} connection failed')\n",
    "        continue\n",
    "\n",
    "    soup=bsp(detailpage.text,\"lxml\")\n",
    "    actor_sec=soup.body.find_all(\"div\",{\"class\":\"actor_tit\"})\n",
    "    people={}\n",
    "    actor_name=[]\n",
    "    for i in actor_sec:\n",
    "        if i.h4:\n",
    "            actor=i.h4.text.strip()\n",
    "        else:\n",
    "            actor_name.append(i.text.strip())\n",
    "    people[actor]=actor_name \n",
    "    ## Staff member\n",
    "    staff_sec=soup.body.find_all(\"div\",{\"class\":\"credits_r\"})[0].find_all(\"div\",{\"class\":\"credits_list\"})\n",
    "    for i in staff_sec:\n",
    "        title=(i.h4.text.strip())\n",
    "        member_list=[]\n",
    "        member=i.find_all('p')\n",
    "        if member:\n",
    "            for p in member:\n",
    "                member_list.append(p.text.strip())\n",
    "        people[title]=member_list\n",
    "    actor_staff.append(people)\n",
    "dt_merged[\"ActorAndStaff\"]=actor_staff"
   ]
  },
  {
   "cell_type": "markdown",
   "metadata": {},
   "source": [
    "### Get winning awards for each movie"
   ]
  },
  {
   "cell_type": "code",
   "execution_count": null,
   "metadata": {},
   "outputs": [],
   "source": [
    "awards_detail=[]\n",
    "awards_sum=[]\n",
    "## add awards\n",
    "## 奖项\n",
    "for i in dt_merged.MtimePage:\n",
    "    try:\n",
    "        detailpage=rq.get(i+\"/awards.html\",timeout=10)\n",
    "    except:\n",
    "        print(f'{i} Time out')\n",
    "    if detailpage.status_code==200:\n",
    "        soup=bsp(detailpage.text,\"lxml\")\n",
    "    else:\n",
    "        print(f'{i} connection failed')\n",
    "        continue\n",
    "        \n",
    "    award_name=soup.body.find_all(\"h3\")\n",
    "    award_detail=soup.body.find_all(\"dl\")\n",
    "    if award_name:\n",
    "        aw_names=[]\n",
    "        for i in award_name:\n",
    "            if i.b:\n",
    "                aw_names.append(i.text.strip())\n",
    "            else:\n",
    "                award_summary=i.text.strip()\n",
    "            \n",
    "        for i in range(len(award_detail)):\n",
    "            if 'id' in award_detail[i].attrs:\n",
    "                if award_detail[i]['id']==\"awardSlidesItems\":\n",
    "                    position=i+1\n",
    "                    break\n",
    "        details=award_detail[position:]\n",
    "        assert len(details)==len(aw_names)\n",
    "        \n",
    "        ## for each award, get detail\n",
    "        award_dict=dict()\n",
    "        for i in range(len(aw_names)):\n",
    "            summary=re.search(r'奖 \\(.+',aw_names[i])\n",
    "            if summary:\n",
    "                summary=summary.group().replace(r\"奖 \",\"\")\n",
    "            name=re.search(r'\\w+奖',aw_names[i])\n",
    "            if name:\n",
    "                name=name.group()\n",
    "                award_dict[name]=[summary,re.sub(r'·\\w+-','#',details[i].text.strip())]\n",
    "            \n",
    "        awards_sum.append([award_summary,aw_names])\n",
    "        awards_detail.append(award_dict) \n",
    "    else:\n",
    "        award_summary=np.NaN\n",
    "        awards_sum.append(np.NaN)\n",
    "        awards_detail.append(np.NaN) \n",
    "dt_merged[\"AwardSummary\"]=awards_sum\n",
    "dt_merged[\"AwardDetail\"]=awards_detail"
   ]
  },
  {
   "cell_type": "markdown",
   "metadata": {},
   "source": [
    "### Get Companies & Distributors for each movie"
   ]
  },
  {
   "cell_type": "code",
   "execution_count": null,
   "metadata": {},
   "outputs": [],
   "source": [
    "## add companies\n",
    "## 公司\n",
    "produce_company=[]\n",
    "distribute_company=[]\n",
    "for i in dt_merged.MtimePage:\n",
    "    try:\n",
    "        detailpage=rq.get(i+\"/details.html\",timeout=10)\n",
    "    except:\n",
    "        print(f'{i} Time out')\n",
    "    if detailpage.status_code==200:\n",
    "        soup=bsp(detailpage.text,\"lxml\")\n",
    "    else:\n",
    "        print(f'{i} connection failed')\n",
    "        continue\n",
    "    \n",
    "    soup=bsp(detailpage.text,\"lxml\")\n",
    "    company_sec=soup.body.find_all(\"dl\",{\"id\":\"companyRegion\"})\n",
    "    if company_sec:\n",
    "        company_detail=company_sec[0].find_all(\"div\",{\"class\":\"fl wp49\"})\n",
    "        if company_detail:\n",
    "            try:\n",
    "                produce_company.append(company_detail[0].text)\n",
    "            except:\n",
    "                produce_company.append(np.NaN)\n",
    "            try:\n",
    "                distribute_company.append(company_detail[1].text)\n",
    "            except:\n",
    "                distribute_company.append(np.NaN)\n",
    "    else:\n",
    "        produce_company.append(np.NaN)\n",
    "        distribute_company.append(np.NaN) \n",
    "dt_merged[\"ProductionCompany\"]=produce_company\n",
    "dt_merged[\"DistributorCompany\"]=distribute_company"
   ]
  },
  {
   "cell_type": "markdown",
   "metadata": {},
   "source": [
    "### Scraping finished, save the data to a CSV file"
   ]
  },
  {
   "cell_type": "code",
   "execution_count": null,
   "metadata": {},
   "outputs": [],
   "source": [
    "dt_merged.to_csv(\"raw_final_data.csv\")\n",
    "dt_merged.head()"
   ]
  },
  {
   "cell_type": "markdown",
   "metadata": {},
   "source": [
    "# Data Manipulation & Analysis"
   ]
  },
  {
   "cell_type": "code",
   "execution_count": null,
   "metadata": {},
   "outputs": [],
   "source": [
    "### read the data\n",
    "dt=pd.read_csv(\"raw_final_data.csv\")\n",
    "dt=dt.drop(dt.columns[0], axis=1)\n",
    "dt.head()"
   ]
  },
  {
   "cell_type": "markdown",
   "metadata": {},
   "source": [
    "## Check data types and convert to correct data types"
   ]
  },
  {
   "cell_type": "code",
   "execution_count": null,
   "metadata": {},
   "outputs": [],
   "source": [
    "## check data types and convert to correct data types\n",
    "dt.dtypes"
   ]
  },
  {
   "cell_type": "code",
   "execution_count": null,
   "metadata": {},
   "outputs": [],
   "source": [
    "## date to date \n",
    "dt.ReleaseDate=dt.ReleaseDate.apply(lambda x: re.sub(r\"日\\w*\",\"\",x))\n",
    "dt.ReleaseDate=dt.ReleaseDate.apply(lambda x: re.sub(r\"年|月\",\"-\",x))\n",
    "dt.ReleaseDate=pd.to_datetime(dt.ReleaseDate)"
   ]
  },
  {
   "cell_type": "markdown",
   "metadata": {},
   "source": [
    "## Recall that different units existed in the datasets"
   ]
  },
  {
   "cell_type": "code",
   "execution_count": null,
   "metadata": {},
   "outputs": [],
   "source": [
    "## Boxoffice/BoxofficeGlobal to float, and currency conversion, unit unified to million USD\n",
    "BoxOffice=[]\n",
    "BoxOfficeCN=[]\n",
    "BoxOfficeNA=[]\n",
    "money_local=dt.BoxOffice.apply(lambda x: float(re.sub(r\"(亿USD)|(亿CNY)\",\"\",x)))\n",
    "for i in range(len(dt.BoxOffice)):\n",
    "    if \"USD\" in dt.BoxOffice[i]:\n",
    "        BoxOffice.append(round(money_local[i]*100,6))\n",
    "    else:\n",
    "        BoxOffice.append(round(0.15*money_local[i]*100,6))\n",
    "BoxOfficeGlobal=[]\n",
    "for i in range(len(dt.BoxOffice)):\n",
    "    x=dt.BoxOfficeGlobal[i]\n",
    "    try:\n",
    "        math.isnan(x)\n",
    "        BoxOfficeGlobal.append(np.NaN)\n",
    "    except:\n",
    "        BoxOfficeGlobal.append(re.sub(r\"亿USD\",\"\",x))\n",
    "BoxOfficeGlobal=[round(float(i)*100,6) for i in BoxOfficeGlobal]\n",
    "dt.BoxOffice=BoxOffice\n",
    "dt.BoxOfficeGlobal=BoxOfficeGlobal"
   ]
  },
  {
   "cell_type": "markdown",
   "metadata": {},
   "source": [
    "## For those scraped information that were original stored in the list/dictionary format\n",
    "## We need to convert them back"
   ]
  },
  {
   "cell_type": "code",
   "execution_count": null,
   "metadata": {},
   "outputs": [],
   "source": [
    "## use ast to convert str representation of lists/dictionary back to their format\n",
    "AwardSummary=[]\n",
    "for i in dt.AwardSummary:\n",
    "    try:\n",
    "        math.isnan(i)\n",
    "        AwardSummary.append(np.NaN)\n",
    "    except:\n",
    "        AwardSummary.append(ast.literal_eval(i))\n",
    "ActorAndStaff=[]\n",
    "for i in dt.ActorAndStaff:\n",
    "    try:\n",
    "        math.isnan(i)\n",
    "        ActorAndStaff.append(np.NaN)\n",
    "    except:\n",
    "        ActorAndStaff.append(ast.literal_eval(i))\n",
    "AwardDetail=[]\n",
    "for i in dt.AwardDetail:\n",
    "    try:\n",
    "        math.isnan(i)\n",
    "        AwardDetail.append(np.NaN)\n",
    "    except:\n",
    "        AwardDetail.append(ast.literal_eval(i))\n",
    "dt.ActorAndStaff=ActorAndStaff\n",
    "dt.AwardDetail=AwardDetail\n",
    "dt.AwardSummary=AwardSummary"
   ]
  },
  {
   "cell_type": "markdown",
   "metadata": {},
   "source": [
    "## There is a missing value in the Runtime that can be manually corrected"
   ]
  },
  {
   "cell_type": "code",
   "execution_count": null,
   "metadata": {},
   "outputs": [],
   "source": [
    "## manual clean: Meet the Fockers2, runtime 1h55m\n",
    "dt.iloc[295,13]=dt.iloc[295,12]\n",
    "dt.iloc[295,12]=\"115\"\n",
    "## Runtime to int\n",
    "dt.Runtime=dt.Runtime.apply(lambda x: re.sub(r\"分钟\",\"\",x))\n",
    "dt=dt.astype({\"Runtime\":int})"
   ]
  },
  {
   "cell_type": "markdown",
   "metadata": {},
   "source": [
    "## For missing values in those three rankings, change them to 0 rather than NULL"
   ]
  },
  {
   "cell_type": "code",
   "execution_count": null,
   "metadata": {},
   "outputs": [],
   "source": [
    "dt.BoxOfficeRankCN=dt.BoxOfficeRankCN.fillna(0)\n",
    "dt.BoxOfficeRankNA=dt.BoxOfficeRankNA.fillna(0)\n",
    "dt.BoxOfficeRankG=dt.BoxOfficeRankG.fillna(0)\n",
    "dt=dt.astype({\"BoxOfficeRankCN\":int,\"BoxOfficeRankNA\":int,\"BoxOfficeRankG\":int})"
   ]
  },
  {
   "cell_type": "markdown",
   "metadata": {},
   "source": [
    "## For missing values in global sales, use domestic sales to represent"
   ]
  },
  {
   "cell_type": "code",
   "execution_count": null,
   "metadata": {},
   "outputs": [],
   "source": [
    "# fill in null in BoxOfficeGlobal with values in BoxOffice\n",
    "dt.BoxOfficeGlobal=dt.BoxOfficeGlobal.fillna(value=dt.BoxOffice)"
   ]
  },
  {
   "cell_type": "markdown",
   "metadata": {},
   "source": [
    "## Cleaning the information in two company columns"
   ]
  },
  {
   "cell_type": "code",
   "execution_count": null,
   "metadata": {},
   "outputs": [],
   "source": [
    "# remove extra text in companies\n",
    "dt.ProductionCompany=dt.ProductionCompany.apply(lambda x: re.sub(r\"制作公司 \",\"\",x))\n",
    "DistributorCompany=[]\n",
    "for i in range(len(dt.DistributorCompany)):\n",
    "    x=dt.DistributorCompany[i]\n",
    "    try:\n",
    "        math.isnan(x)\n",
    "        DistributorCompany.append(np.NaN)\n",
    "    except:\n",
    "        DistributorCompany.append(re.sub(r\"发行公司 \",\"\",x))\n",
    "dt.DistributorCompany=DistributorCompany"
   ]
  },
  {
   "cell_type": "markdown",
   "metadata": {},
   "source": [
    "## Extract year & month and different genres in the data"
   ]
  },
  {
   "cell_type": "code",
   "execution_count": null,
   "metadata": {},
   "outputs": [],
   "source": [
    "## create year & month column\n",
    "dt[\"Year\"]=dt.ReleaseDate.apply(lambda x: x.year)\n",
    "dt[\"Month\"]=dt.ReleaseDate.apply(lambda x: x.month)\n",
    "## seperate genres\n",
    "unique_genere=set(dt.Genre.str.split(r\"/\").sum())\n",
    "for g in unique_genere:\n",
    "    dt[g]=dt.Genre.str.contains(g,regex=False)"
   ]
  },
  {
   "cell_type": "code",
   "execution_count": null,
   "metadata": {},
   "outputs": [],
   "source": [
    "## Check the data type again\n",
    "dt.dtypes"
   ]
  },
  {
   "cell_type": "markdown",
   "metadata": {},
   "source": [
    "# Visulization \n",
    "### Note that Visulization in Matplotlib does not support Chinese Characters \n",
    "### Use the following to figure out the settings"
   ]
  },
  {
   "cell_type": "code",
   "execution_count": null,
   "metadata": {},
   "outputs": [],
   "source": [
    "## figuring out chinese output in matplot\n",
    "import matplotlib\n",
    "# matplotlib.matplotlib_fname()\n",
    "import matplotlib.pyplot as plt\n",
    "from matplotlib.font_manager import _rebuild\n",
    "_rebuild()\n",
    "import matplotlib.pyplot as plt\n",
    "mpl.rcParams['font.sans-serif'] = ['SimHei']\n",
    "mpl.rcParams['font.serif'] = ['SimHei']\n",
    "import seaborn as sns\n",
    "sns.set_style(\"darkgrid\",{\"font.sans-serif\":['simhei', 'Arial']})"
   ]
  },
  {
   "cell_type": "markdown",
   "metadata": {},
   "source": [
    "## Creating subsets for different areas"
   ]
  },
  {
   "cell_type": "code",
   "execution_count": null,
   "metadata": {},
   "outputs": [],
   "source": [
    "dt_global=dt.iloc[100:200]\n",
    "dt_cn=dt.iloc[0:100]\n",
    "dt_na=dt.iloc[200:300]"
   ]
  },
  {
   "cell_type": "code",
   "execution_count": null,
   "metadata": {},
   "outputs": [],
   "source": [
    "## Scatter Plots on domestic sales between China and North America\n",
    "f, ax = plt.subplots(nrows=2, ncols=2, figsize=(20,8))\n",
    "ax[0][0].scatter(x=\"Month\", y=\"BoxOffice\",data=dt_cn)\n",
    "ax[0][0].set_ylabel('China Domestic BoxOffice (Million USD)')\n",
    "ax[0][0].set_xlabel('Month')\n",
    "ax[0][1].scatter(x=\"Year\", y=\"BoxOffice\",data=dt_cn)\n",
    "ax[0][1].set_ylabel('China Domestic BoxOffice (Million USD)')\n",
    "ax[0][1].set_xlabel('Year')\n",
    "\n",
    "ax[1][0].scatter(x=\"Month\", y=\"BoxOffice\",data=dt_na)\n",
    "ax[1][0].set_ylabel('NA Domestic BoxOffice (Million USD)')\n",
    "ax[1][0].set_xlabel('Month')\n",
    "ax[1][1].scatter(x=\"Year\", y=\"BoxOffice\",data=dt_na)\n",
    "ax[1][1].set_ylabel('NA Domestic BoxOffice (Million USD)')\n",
    "ax[1][1].set_xlabel('Year')"
   ]
  },
  {
   "cell_type": "markdown",
   "metadata": {},
   "source": [
    "## Creating monthly data for visulization"
   ]
  },
  {
   "cell_type": "code",
   "execution_count": null,
   "metadata": {},
   "outputs": [],
   "source": [
    "Month=[]\n",
    "Month_count=[]\n",
    "Month_money=[]\n",
    "for i in dt_cn.Month.unique():\n",
    "    Month.append(i)\n",
    "    Month_count.append(len(dt.Month[dt.Month==i]))\n",
    "    Month_money.append(dt_cn.BoxOffice[dt_cn.Month==i].sum())\n",
    "dt_cn_month=pd.DataFrame({\"Month\":Month,\"Month_count\":Month_count,\"Month_money\":Month_money})\n",
    "dt_cn_month[\"Avg\"]=dt_cn_month.Month_money/dt_cn_month.Month_count\n",
    "dt_cn_month.to_csv(\"Month_data_cn.csv\")\n",
    "dt_cn_month=dt_cn_month.sort_values(by=\"Month\")\n",
    "\n",
    "dt_cn_month_sep=dt[[\"Month\",\"BoxOffice\"]].sort_values(by=\"Month\")\n",
    "dt_cn_month_sep_list=[]\n",
    "dt_cn_month_sep_list_lab=[]\n",
    "for m in dt_cn_month_sep.Month.unique():\n",
    "    dt_cn_month_sep_list_lab.append(m)\n",
    "    dt_cn_month_sep_list.append(dt_cn_month_sep.BoxOffice[dt_cn_month_sep.Month==m].values.tolist())\n",
    "Month=[]\n",
    "Month_count=[]\n",
    "Month_money=[]\n",
    "for i in dt_na.Month.unique():\n",
    "    Month.append(i)\n",
    "    Month_count.append(len(dt.Month[dt.Month==i]))\n",
    "    Month_money.append(dt_na.BoxOffice[dt_na.Month==i].sum())\n",
    "dt_na_month=pd.DataFrame({\"Month\":Month,\"Month_count\":Month_count,\"Month_money\":Month_money})\n",
    "dt_na_month[\"Avg\"]=dt_na_month.Month_money/dt_na_month.Month_count\n",
    "dt_na_month.to_csv(\"Month_data_cn.csv\")\n",
    "dt_na_month=dt_na_month.sort_values(by=\"Month\")\n",
    "\n",
    "dt_na_month_sep=dt[[\"Month\",\"BoxOffice\"]].sort_values(by=\"Month\")\n",
    "dt_na_month_sep_list=[]\n",
    "dt_na_month_sep_list_lab=[]\n",
    "for m in dt_na_month_sep.Month.unique():\n",
    "    dt_na_month_sep_list_lab.append(m)\n",
    "    dt_na_month_sep_list.append(dt_na_month_sep.BoxOffice[dt_na_month_sep.Month==m].values.tolist())"
   ]
  },
  {
   "cell_type": "code",
   "execution_count": null,
   "metadata": {},
   "outputs": [],
   "source": [
    "## show the plots for Monthly data between China & North America\n",
    "f, ax = plt.subplots(nrows=2, ncols=2, figsize=(20,12))\n",
    "ax[0][0].bar(x=\"Month\", height=\"Month_money\",data=dt_cn_month)\n",
    "ax[0][0].set_ylabel('CN Domestic BoxOffice (Million USD)')\n",
    "ax[0][0].set_xlabel('Month')\n",
    "\n",
    "ax[0][1].bar(x=\"Month\", height=\"Month_money\",data=dt_na_month)\n",
    "ax[0][1].set_ylabel('NA GlobalBoxOffice (Million USD)')\n",
    "ax[0][1].set_xlabel('Month')\n",
    "\n",
    "ax[1][0].bar(x=\"Month\", height=\"Month_count\",data=dt_cn_month)\n",
    "ax[1][0].set_ylabel('CN Domestic Frequency (Million USD)')\n",
    "ax[1][0].set_xlabel('Month')\n",
    "\n",
    "ax[1][1].bar(x=\"Month\", height=\"Month_count\",data=dt_na_month)\n",
    "ax[1][1].set_ylabel('NA Domestic Frequency (Million USD)')\n",
    "ax[1][1].set_xlabel('Month')"
   ]
  },
  {
   "cell_type": "markdown",
   "metadata": {},
   "source": [
    "## Creating data sets for visulization of different genres"
   ]
  },
  {
   "cell_type": "code",
   "execution_count": null,
   "metadata": {},
   "outputs": [],
   "source": [
    "### change the \"dt_na\" in the following to \"dt_cn\" and run again to get the comparison dataset for China\n",
    "dt_genre_box=dt_na[[\"BoxOffice\"]+list(unique_genere)]\n",
    "for i in range(len(dt_genre_box.columns)):\n",
    "    if i==0:\n",
    "        continue\n",
    "    for j in range(len(dt_genre_box.BoxOffice)):\n",
    "        if dt_genre_box.iloc[j,i]==True:\n",
    "            dt_genre_box.iloc[j,i]=dt_genre_box.BoxOffice[j]\n",
    "dt_genre_box_money=dt_genre_box[dt_genre_box.columns[1:]]\n",
    "Genre=[]\n",
    "Money=[]\n",
    "Count=[]\n",
    "for i in unique_genere:\n",
    "    Genre.append(i)\n",
    "    Money.append(dt_genre_box_money[i].sum())\n",
    "    Count.append(dt[i].sum())\n",
    "dt_genre_count=pd.DataFrame({\"Genre\":Genre,\"Count\":Count,\"BoxOffice\":Money})\n",
    "#\n",
    "Genre=[]\n",
    "Money=[]\n",
    "for i in range(len(dt.BoxOffice)):\n",
    "    for g in unique_genere:\n",
    "        if g in dt.Genre[i]:\n",
    "            Genre.append(g)\n",
    "            Money.append(dt.BoxOffice[i])\n",
    "dt_genre_count_seperate=pd.DataFrame({\"Genre\":Genre,\"BoxOffice\":Money})\n",
    "dt_genre_count[\"Average\"]=dt_genre_count.BoxOffice/dt_genre_count.Count\n",
    "dt_genre_count=dt_genre_count.sort_values(by=\"Count\")\n",
    "dt_genre_count_seperate_list=[]\n",
    "dt_genre_count_seperate_list_lab=[]\n",
    "for g in dt_genre_count.Genre.unique():\n",
    "    dt_genre_count_seperate_list_lab.append(g)\n",
    "    dt_genre_count_seperate_list.append(dt_genre_count_seperate.BoxOffice[dt_genre_count_seperate.Genre==g].values.tolist())"
   ]
  },
  {
   "cell_type": "markdown",
   "metadata": {},
   "source": [
    "## Creating plots for different Genres"
   ]
  },
  {
   "cell_type": "code",
   "execution_count": null,
   "metadata": {},
   "outputs": [],
   "source": [
    "f, ax = plt.subplots(nrows=2, ncols=2, figsize=(20,12))\n",
    "ax[0][0].bar(x=\"Genre\", height=\"Count\",data=dt_genre_count)\n",
    "ax[0][0].set_ylabel('Frequency')\n",
    "ax[0][1].bar(x=\"Genre\", height=\"BoxOffice\",data=dt_genre_count)\n",
    "ax[0][1].set_ylabel('Total GlobalBoxOffice (Million USD)')\n",
    "ax[1][0].bar(x=\"Genre\", height=\"Average\",data=dt_genre_count)\n",
    "ax[1][0].set_ylabel('Avg GlobalBoxOffice (Million USD)')\n",
    "ax[1][1].boxplot(dt_genre_count_seperate_list,flierprops=dict(marker='D', markerfacecolor='b', markersize=4,markeredgecolor='b'),\n",
    "                medianprops=dict(color='r'))\n",
    "ax[1][1].set_ylabel(\"GlobalBoxOffice (Million USD)\")\n",
    "ax[1][1].set_xticklabels(dt_genre_count_seperate_list_lab)"
   ]
  },
  {
   "cell_type": "markdown",
   "metadata": {},
   "source": [
    "# Some exploration on the data for basic information"
   ]
  },
  {
   "cell_type": "code",
   "execution_count": null,
   "metadata": {},
   "outputs": [],
   "source": [
    "## change \"dt\" to \"dt_cn\"/\"dt_na\"/\"dt_global\" \n",
    "## to get summary statistics for different areas\n",
    "dt.describe()"
   ]
  },
  {
   "cell_type": "markdown",
   "metadata": {},
   "source": [
    "## You can directly show the minmal or maximum for each data set based on sales/ratings"
   ]
  },
  {
   "cell_type": "code",
   "execution_count": null,
   "metadata": {},
   "outputs": [],
   "source": [
    "## change \"dt\" to \"dt_cn\"/\"dt_na\"/\"dt_global\" \n",
    "## to get summary statistics for different areas\n",
    "dt[dt.MtimeRating==min(dt.MtimeRating)]\n",
    "dt[dt.BoxOfficeGlobal==min(dt.BoxOfficeGlobal)]"
   ]
  },
  {
   "cell_type": "markdown",
   "metadata": {},
   "source": [
    "## Potential relationship between ratings & sales"
   ]
  },
  {
   "cell_type": "code",
   "execution_count": null,
   "metadata": {},
   "outputs": [],
   "source": [
    "sns.regplot(x=\"MtimeRating\", y=\"BoxOffice\", data=dt)"
   ]
  }
 ],
 "metadata": {
  "kernelspec": {
   "display_name": "Python 3",
   "language": "python",
   "name": "python3"
  },
  "language_info": {
   "codemirror_mode": {
    "name": "ipython",
    "version": 3
   },
   "file_extension": ".py",
   "mimetype": "text/x-python",
   "name": "python",
   "nbconvert_exporter": "python",
   "pygments_lexer": "ipython3",
   "version": "3.7.0"
  }
 },
 "nbformat": 4,
 "nbformat_minor": 2
}
